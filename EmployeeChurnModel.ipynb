{
  "nbformat": 4,
  "nbformat_minor": 0,
  "metadata": {
    "hide_input": false,
    "kernelspec": {
      "name": "python3",
      "display_name": "Python 3"
    },
    "language_info": {
      "codemirror_mode": {
        "name": "ipython",
        "version": 3
      },
      "file_extension": ".py",
      "mimetype": "text/x-python",
      "name": "python",
      "nbconvert_exporter": "python",
      "pygments_lexer": "ipython3",
      "version": "3.6.7"
    },
    "toc": {
      "base_numbering": 1,
      "nav_menu": {},
      "number_sections": true,
      "sideBar": true,
      "skip_h1_title": true,
      "title_cell": "Table of Contents",
      "title_sidebar": "Contents",
      "toc_cell": true,
      "toc_position": {
        "height": "calc(100% - 180px)",
        "left": "10px",
        "top": "150px",
        "width": "296px"
      },
      "toc_section_display": true,
      "toc_window_display": true
    },
    "varInspector": {
      "cols": {
        "lenName": 16,
        "lenType": 16,
        "lenVar": 40
      },
      "kernels_config": {
        "python": {
          "delete_cmd_postfix": "",
          "delete_cmd_prefix": "del ",
          "library": "var_list.py",
          "varRefreshCmd": "print(var_dic_list())"
        },
        "r": {
          "delete_cmd_postfix": ") ",
          "delete_cmd_prefix": "rm(",
          "library": "var_list.r",
          "varRefreshCmd": "cat(var_dic_list()) "
        }
      },
      "types_to_exclude": [
        "module",
        "function",
        "builtin_function_or_method",
        "instance",
        "_Feature"
      ],
      "window_display": false
    },
    "colab": {
      "name": "EmployeeChurnModel.ipynb",
      "provenance": []
    },
    "accelerator": "GPU"
  },
  "cells": [
    {
      "cell_type": "code",
      "metadata": {
        "id": "lujzrX9cnPI5",
        "colab_type": "code",
        "outputId": "18bc21e7-5f1d-487d-b9af-a6ec7c7e142a",
        "colab": {
          "base_uri": "https://localhost:8080/",
          "height": 34
        }
      },
      "source": [
        "from google.colab import drive\n",
        "drive.mount('/content/drive')"
      ],
      "execution_count": 1,
      "outputs": [
        {
          "output_type": "stream",
          "text": [
            "Drive already mounted at /content/drive; to attempt to forcibly remount, call drive.mount(\"/content/drive\", force_remount=True).\n"
          ],
          "name": "stdout"
        }
      ]
    },
    {
      "cell_type": "code",
      "metadata": {
        "id": "yEayT_y-oFSm",
        "colab_type": "code",
        "outputId": "10c337dc-a4ae-406f-d47e-16f72182c967",
        "colab": {
          "base_uri": "https://localhost:8080/",
          "height": 185
        }
      },
      "source": [
        "!ls '/content/drive/My Drive/Data_Science_Use_Cases/' "
      ],
      "execution_count": 2,
      "outputs": [
        {
          "output_type": "stream",
          "text": [
            " aaa\n",
            "'Click-Through Rate Prediction.ipynb'\n",
            "'Copy of WA_Fn-UseC_-HR-Employee-Attrition.xlsx'\n",
            " Data_Science\n",
            " Datasets\n",
            " diabetes.csv\n",
            " EmployeeChurnModel.ipynb\n",
            "'Machine Learning for Diabetes.ipynb'\n",
            " Untitled0.ipynb\n",
            " WA_Fn-UseC_-HR-Employee-Attrition.xlsx\n"
          ],
          "name": "stdout"
        }
      ]
    },
    {
      "cell_type": "code",
      "metadata": {
        "id": "kuKLx5IOzF_Q",
        "colab_type": "code",
        "colab": {}
      },
      "source": [
        ""
      ],
      "execution_count": 0,
      "outputs": []
    },
    {
      "cell_type": "markdown",
      "metadata": {
        "id": "TOm9j1EJnFQn",
        "colab_type": "text"
      },
      "source": [
        "# Building Employee Churn Model: a HR Analytics Case Study"
      ]
    },
    {
      "cell_type": "markdown",
      "metadata": {
        "id": "GWBl9gILnFQy",
        "colab_type": "text"
      },
      "source": [
        "## Problem Definition"
      ]
    },
    {
      "cell_type": "markdown",
      "metadata": {
        "id": "3rKO5yM6nFQ4",
        "colab_type": "text"
      },
      "source": [
        "### Project Overview"
      ]
    },
    {
      "cell_type": "markdown",
      "metadata": {
        "id": "Gej_xhPCnFQ8",
        "colab_type": "text"
      },
      "source": [
        "### Problem Statement"
      ]
    },
    {
      "cell_type": "markdown",
      "metadata": {
        "id": "XZe7AdxJnFRA",
        "colab_type": "text"
      },
      "source": [
        "Understanding why and when employees are most likely to leave can lead to actions to improve employee retention as well as possibly planning new hiring in advance. I will be usign a step-by-step systematic approach using a method that could be used for a variety of ML problems. This project would fall under what is commonly known as \"**HR Anlytics**\", \"**People Analytics**\". <br>"
      ]
    },
    {
      "cell_type": "markdown",
      "metadata": {
        "id": "gMU6j_VDnFRE",
        "colab_type": "text"
      },
      "source": [
        "In this study, we will attempt to solve the following problem statement is: <br>\n",
        "> ** What is the likelihood of an active employee leaving the company? <br>\n",
        "What are the key indicators of an employee leaving the company? <br>\n",
        "What policies or strategies can be adopted based on the results to improve employee retention? **\n",
        "\n",
        "Given that we have data on former employees, this is a standard **supervised classification problem** where the label is a binary variable, 0 (active employee), 1 (former employee). In this study, our target variable Y is the probability of an employee leaving the company. <br>"
      ]
    },
    {
      "cell_type": "markdown",
      "metadata": {
        "id": "_A_LL-opnFRJ",
        "colab_type": "text"
      },
      "source": [
        "## Dataset Analysis"
      ]
    },
    {
      "cell_type": "markdown",
      "metadata": {
        "id": "Y2aMDqnfnFRM",
        "colab_type": "text"
      },
      "source": [
        "### Importing Python libraries"
      ]
    },
    {
      "cell_type": "code",
      "metadata": {
        "ExecuteTime": {
          "end_time": "2019-02-26T17:03:57.588868Z",
          "start_time": "2019-02-26T17:03:55.460102Z"
        },
        "id": "DRwNIbPQnFRR",
        "colab_type": "code",
        "colab": {}
      },
      "source": [
        "# importing libraries for data handling and analysis\n",
        "import pandas as pd\n",
        "from pandas.plotting import scatter_matrix\n",
        "from pandas import ExcelWriter\n",
        "from pandas import ExcelFile\n",
        "from openpyxl import load_workbook\n",
        "import numpy as np\n",
        "from scipy.stats import norm, skew\n",
        "from scipy import stats\n",
        "import statsmodels.api as sm"
      ],
      "execution_count": 0,
      "outputs": []
    },
    {
      "cell_type": "code",
      "metadata": {
        "ExecuteTime": {
          "end_time": "2019-02-26T17:03:58.509004Z",
          "start_time": "2019-02-26T17:03:57.735796Z"
        },
        "id": "RaQMt402nFRg",
        "colab_type": "code",
        "outputId": "d6751095-e3e4-48f6-8b1c-1fff5c0f53dd",
        "colab": {
          "base_uri": "https://localhost:8080/",
          "height": 17
        }
      },
      "source": [
        "# importing libraries for data visualisations\n",
        "import seaborn as sns\n",
        "from matplotlib import pyplot\n",
        "import matplotlib.pyplot as plt\n",
        "import matplotlib.pylab as pylab\n",
        "import matplotlib\n",
        "%matplotlib inline\n",
        "color = sns.color_palette()\n",
        "from IPython.display import display\n",
        "pd.options.display.max_columns = None\n",
        "# Standard plotly imports\n",
        "import plotly\n",
        "import chart_studio.plotly as py\n",
        "from  plotly.offline import plot\n",
        "import plotly.figure_factory as ff\n",
        "import plotly.graph_objs as go\n",
        "from plotly.offline import iplot, init_notebook_mode\n",
        "# Using plotly + cufflinks in offline mode\n",
        "from plotly.offline import download_plotlyjs, init_notebook_mode, plot, iplot\n",
        "import cufflinks as cf\n",
        "cf.set_config_file(offline=True)\n",
        "import cufflinks\n",
        "cufflinks.go_offline(connected=True)\n",
        "init_notebook_mode(connected=True)"
      ],
      "execution_count": 16,
      "outputs": [
        {
          "output_type": "display_data",
          "data": {
            "text/html": [
              "        <script type=\"text/javascript\">\n",
              "        window.PlotlyConfig = {MathJaxConfig: 'local'};\n",
              "        if (window.MathJax) {MathJax.Hub.Config({SVG: {font: \"STIX-Web\"}});}\n",
              "        if (typeof require !== 'undefined') {\n",
              "        require.undef(\"plotly\");\n",
              "        requirejs.config({\n",
              "            paths: {\n",
              "                'plotly': ['https://cdn.plot.ly/plotly-latest.min']\n",
              "            }\n",
              "        });\n",
              "        require(['plotly'], function(Plotly) {\n",
              "            window._Plotly = Plotly;\n",
              "        });\n",
              "        }\n",
              "        </script>\n",
              "        "
            ]
          },
          "metadata": {
            "tags": []
          }
        },
        {
          "output_type": "display_data",
          "data": {
            "text/html": [
              "        <script type=\"text/javascript\">\n",
              "        window.PlotlyConfig = {MathJaxConfig: 'local'};\n",
              "        if (window.MathJax) {MathJax.Hub.Config({SVG: {font: \"STIX-Web\"}});}\n",
              "        if (typeof require !== 'undefined') {\n",
              "        require.undef(\"plotly\");\n",
              "        requirejs.config({\n",
              "            paths: {\n",
              "                'plotly': ['https://cdn.plot.ly/plotly-latest.min']\n",
              "            }\n",
              "        });\n",
              "        require(['plotly'], function(Plotly) {\n",
              "            window._Plotly = Plotly;\n",
              "        });\n",
              "        }\n",
              "        </script>\n",
              "        "
            ]
          },
          "metadata": {
            "tags": []
          }
        },
        {
          "output_type": "display_data",
          "data": {
            "text/html": [
              "        <script type=\"text/javascript\">\n",
              "        window.PlotlyConfig = {MathJaxConfig: 'local'};\n",
              "        if (window.MathJax) {MathJax.Hub.Config({SVG: {font: \"STIX-Web\"}});}\n",
              "        if (typeof require !== 'undefined') {\n",
              "        require.undef(\"plotly\");\n",
              "        requirejs.config({\n",
              "            paths: {\n",
              "                'plotly': ['https://cdn.plot.ly/plotly-latest.min']\n",
              "            }\n",
              "        });\n",
              "        require(['plotly'], function(Plotly) {\n",
              "            window._Plotly = Plotly;\n",
              "        });\n",
              "        }\n",
              "        </script>\n",
              "        "
            ]
          },
          "metadata": {
            "tags": []
          }
        }
      ]
    },
    {
      "cell_type": "code",
      "metadata": {
        "ExecuteTime": {
          "end_time": "2019-02-26T17:04:04.775128Z",
          "start_time": "2019-02-26T17:04:03.078922Z"
        },
        "id": "MHKNd-6inFSM",
        "colab_type": "code",
        "colab": {}
      },
      "source": [
        "# sklearn modules for preprocessing\n",
        "from sklearn.preprocessing import OneHotEncoder, LabelEncoder\n",
        "# from imblearn.over_sampling import SMOTE  # SMOTE\n",
        "# sklearn modules for ML model selection\n",
        "from sklearn.model_selection import train_test_split  # import 'train_test_split'\n",
        "from sklearn.model_selection import GridSearchCV\n",
        "from sklearn.model_selection import RandomizedSearchCV\n",
        "from sklearn.model_selection import ShuffleSplit\n",
        "from sklearn.model_selection import KFold\n",
        "from sklearn.model_selection import cross_val_score\n",
        "\n",
        "# Libraries for data modelling\n",
        "from sklearn import svm, tree, linear_model, neighbors\n",
        "from sklearn import naive_bayes, ensemble, discriminant_analysis, gaussian_process\n",
        "from sklearn.linear_model import LogisticRegression\n",
        "from sklearn.tree import DecisionTreeClassifier\n",
        "from sklearn.neighbors import KNeighborsClassifier\n",
        "from sklearn.discriminant_analysis import LinearDiscriminantAnalysis\n",
        "from sklearn.naive_bayes import GaussianNB\n",
        "from sklearn.svm import SVC\n",
        "from sklearn.neighbors import KNeighborsClassifier\n",
        "from xgboost import XGBClassifier\n",
        "from sklearn.ensemble import RandomForestClassifier\n",
        "\n",
        "# Common sklearn Model Helpers\n",
        "from sklearn import feature_selection\n",
        "from sklearn import model_selection\n",
        "from sklearn import metrics\n",
        "# from sklearn.datasets import make_classification\n",
        "\n",
        "# sklearn modules for performance metrics\n",
        "from sklearn.metrics import confusion_matrix, classification_report, precision_recall_curve\n",
        "from sklearn.metrics import auc, roc_auc_score, roc_curve, recall_score, log_loss\n",
        "from sklearn.metrics import f1_score, accuracy_score, roc_auc_score, make_scorer\n",
        "from sklearn.metrics import average_precision_score"
      ],
      "execution_count": 0,
      "outputs": []
    },
    {
      "cell_type": "code",
      "metadata": {
        "ExecuteTime": {
          "end_time": "2019-02-26T17:03:58.615595Z",
          "start_time": "2019-02-26T17:03:58.611072Z"
        },
        "id": "MceFqe6cnFSZ",
        "colab_type": "code",
        "colab": {}
      },
      "source": [
        "# importing misceallenous libraries\n",
        "import os\n",
        "import re\n",
        "import sys\n",
        "import timeit\n",
        "import string\n",
        "from datetime import datetime\n",
        "from time import time\n",
        "from dateutil.parser import parse\n",
        "# ip = get_ipython()\n",
        "# ip.register_magics(jupyternotify.JupyterNotifyMagics)"
      ],
      "execution_count": 0,
      "outputs": []
    },
    {
      "cell_type": "markdown",
      "metadata": {
        "id": "fop_Y349nFSn",
        "colab_type": "text"
      },
      "source": [
        "### Importing the data"
      ]
    },
    {
      "cell_type": "markdown",
      "metadata": {
        "id": "B3q6SUQqnFSr",
        "colab_type": "text"
      },
      "source": [
        "> Let's import the dataset and make of a copy of the source file for this analysis. <br> The dataset contains 1,470 rows and 35 columns."
      ]
    },
    {
      "cell_type": "code",
      "metadata": {
        "ExecuteTime": {
          "end_time": "2019-02-26T17:04:14.574804Z",
          "start_time": "2019-02-26T17:04:14.566410Z"
        },
        "id": "XF8vyJVwnFS6",
        "colab_type": "code",
        "outputId": "3ab1575e-8616-4b07-a57c-630825a0b5fd",
        "colab": {
          "base_uri": "https://localhost:8080/",
          "height": 34
        }
      },
      "source": [
        "# Make a copy of the original sourcefile\n",
        "# Read Excel file\n",
        "df_sourcefile = pd.read_excel('/content/drive/My Drive/Data_Science_Use_Cases/WA_Fn-UseC_-HR-Employee-Attrition.xlsx', sheet_name=0)\n",
        "print(\"Shape of dataframe is: {}\".format(df_sourcefile.shape))\n",
        "df_sourcefile\n",
        "df_HR = df_sourcefile.copy()"
      ],
      "execution_count": 7,
      "outputs": [
        {
          "output_type": "stream",
          "text": [
            "Shape of dataframe is: (1470, 35)\n"
          ],
          "name": "stdout"
        }
      ]
    },
    {
      "cell_type": "code",
      "metadata": {
        "ExecuteTime": {
          "end_time": "2019-02-26T17:04:13.722057Z",
          "start_time": "2019-02-26T17:04:13.190727Z"
        },
        "id": "F8hh-ltinFSu",
        "colab_type": "code",
        "colab": {}
      },
      "source": [
        ""
      ],
      "execution_count": 0,
      "outputs": []
    },
    {
      "cell_type": "markdown",
      "metadata": {
        "id": "WwOyy4U5nFTF",
        "colab_type": "text"
      },
      "source": [
        "### Data Description and Exploratory Visualisations"
      ]
    },
    {
      "cell_type": "markdown",
      "metadata": {
        "id": "nMSLFxAnnFTI",
        "colab_type": "text"
      },
      "source": [
        "> In this section, we will provide data visualizations that summarizes or extracts relevant characteristics of features in our dataset. Let's look at each column in detail, get a better understanding of the dataset, and group them together when appropriate."
      ]
    },
    {
      "cell_type": "markdown",
      "metadata": {
        "id": "QNntscVPnFTN",
        "colab_type": "text"
      },
      "source": [
        "#### Overview"
      ]
    },
    {
      "cell_type": "code",
      "metadata": {
        "ExecuteTime": {
          "end_time": "2019-02-26T17:04:15.992407Z",
          "start_time": "2019-02-26T17:04:15.984336Z"
        },
        "id": "1QmgW3LInFTR",
        "colab_type": "code",
        "outputId": "da6e6c48-0e6b-4085-e432-846967ed73d8",
        "colab": {
          "base_uri": "https://localhost:8080/",
          "height": 202
        }
      },
      "source": [
        "# Dataset columns\n",
        "df_HR.columns"
      ],
      "execution_count": 8,
      "outputs": [
        {
          "output_type": "execute_result",
          "data": {
            "text/plain": [
              "Index(['Age', 'Attrition', 'BusinessTravel', 'DailyRate', 'Department',\n",
              "       'DistanceFromHome', 'Education', 'EducationField', 'EmployeeCount',\n",
              "       'EmployeeNumber', 'EnvironmentSatisfaction', 'Gender', 'HourlyRate',\n",
              "       'JobInvolvement', 'JobLevel', 'JobRole', 'JobSatisfaction',\n",
              "       'MaritalStatus', 'MonthlyIncome', 'MonthlyRate', 'NumCompaniesWorked',\n",
              "       'Over18', 'OverTime', 'PercentSalaryHike', 'PerformanceRating',\n",
              "       'RelationshipSatisfaction', 'StandardHours', 'StockOptionLevel',\n",
              "       'TotalWorkingYears', 'TrainingTimesLastYear', 'WorkLifeBalance',\n",
              "       'YearsAtCompany', 'YearsInCurrentRole', 'YearsSinceLastPromotion',\n",
              "       'YearsWithCurrManager'],\n",
              "      dtype='object')"
            ]
          },
          "metadata": {
            "tags": []
          },
          "execution_count": 8
        }
      ]
    },
    {
      "cell_type": "code",
      "metadata": {
        "ExecuteTime": {
          "end_time": "2019-02-26T17:04:17.560239Z",
          "start_time": "2019-02-26T17:04:17.496713Z"
        },
        "scrolled": true,
        "id": "GpdrdXW0nFTd",
        "colab_type": "code",
        "outputId": "44c2ba43-6f71-47f0-9609-d74f7a24e2a3",
        "colab": {
          "base_uri": "https://localhost:8080/",
          "height": 299
        }
      },
      "source": [
        "0# Dataset header\n",
        "df_HR.head()"
      ],
      "execution_count": 9,
      "outputs": [
        {
          "output_type": "execute_result",
          "data": {
            "text/html": [
              "<div>\n",
              "<style scoped>\n",
              "    .dataframe tbody tr th:only-of-type {\n",
              "        vertical-align: middle;\n",
              "    }\n",
              "\n",
              "    .dataframe tbody tr th {\n",
              "        vertical-align: top;\n",
              "    }\n",
              "\n",
              "    .dataframe thead th {\n",
              "        text-align: right;\n",
              "    }\n",
              "</style>\n",
              "<table border=\"1\" class=\"dataframe\">\n",
              "  <thead>\n",
              "    <tr style=\"text-align: right;\">\n",
              "      <th></th>\n",
              "      <th>Age</th>\n",
              "      <th>Attrition</th>\n",
              "      <th>BusinessTravel</th>\n",
              "      <th>DailyRate</th>\n",
              "      <th>Department</th>\n",
              "      <th>DistanceFromHome</th>\n",
              "      <th>Education</th>\n",
              "      <th>EducationField</th>\n",
              "      <th>EmployeeCount</th>\n",
              "      <th>EmployeeNumber</th>\n",
              "      <th>EnvironmentSatisfaction</th>\n",
              "      <th>Gender</th>\n",
              "      <th>HourlyRate</th>\n",
              "      <th>JobInvolvement</th>\n",
              "      <th>JobLevel</th>\n",
              "      <th>JobRole</th>\n",
              "      <th>JobSatisfaction</th>\n",
              "      <th>MaritalStatus</th>\n",
              "      <th>MonthlyIncome</th>\n",
              "      <th>MonthlyRate</th>\n",
              "      <th>NumCompaniesWorked</th>\n",
              "      <th>Over18</th>\n",
              "      <th>OverTime</th>\n",
              "      <th>PercentSalaryHike</th>\n",
              "      <th>PerformanceRating</th>\n",
              "      <th>RelationshipSatisfaction</th>\n",
              "      <th>StandardHours</th>\n",
              "      <th>StockOptionLevel</th>\n",
              "      <th>TotalWorkingYears</th>\n",
              "      <th>TrainingTimesLastYear</th>\n",
              "      <th>WorkLifeBalance</th>\n",
              "      <th>YearsAtCompany</th>\n",
              "      <th>YearsInCurrentRole</th>\n",
              "      <th>YearsSinceLastPromotion</th>\n",
              "      <th>YearsWithCurrManager</th>\n",
              "    </tr>\n",
              "  </thead>\n",
              "  <tbody>\n",
              "    <tr>\n",
              "      <th>0</th>\n",
              "      <td>41</td>\n",
              "      <td>Yes</td>\n",
              "      <td>Travel_Rarely</td>\n",
              "      <td>1102</td>\n",
              "      <td>Sales</td>\n",
              "      <td>1</td>\n",
              "      <td>2</td>\n",
              "      <td>Life Sciences</td>\n",
              "      <td>1</td>\n",
              "      <td>1</td>\n",
              "      <td>2</td>\n",
              "      <td>Female</td>\n",
              "      <td>94</td>\n",
              "      <td>3</td>\n",
              "      <td>2</td>\n",
              "      <td>Sales Executive</td>\n",
              "      <td>4</td>\n",
              "      <td>Single</td>\n",
              "      <td>5993</td>\n",
              "      <td>19479</td>\n",
              "      <td>8</td>\n",
              "      <td>Y</td>\n",
              "      <td>Yes</td>\n",
              "      <td>11</td>\n",
              "      <td>3</td>\n",
              "      <td>1</td>\n",
              "      <td>80</td>\n",
              "      <td>0</td>\n",
              "      <td>8</td>\n",
              "      <td>0</td>\n",
              "      <td>1</td>\n",
              "      <td>6</td>\n",
              "      <td>4</td>\n",
              "      <td>0</td>\n",
              "      <td>5</td>\n",
              "    </tr>\n",
              "    <tr>\n",
              "      <th>1</th>\n",
              "      <td>49</td>\n",
              "      <td>No</td>\n",
              "      <td>Travel_Frequently</td>\n",
              "      <td>279</td>\n",
              "      <td>Research &amp; Development</td>\n",
              "      <td>8</td>\n",
              "      <td>1</td>\n",
              "      <td>Life Sciences</td>\n",
              "      <td>1</td>\n",
              "      <td>2</td>\n",
              "      <td>3</td>\n",
              "      <td>Male</td>\n",
              "      <td>61</td>\n",
              "      <td>2</td>\n",
              "      <td>2</td>\n",
              "      <td>Research Scientist</td>\n",
              "      <td>2</td>\n",
              "      <td>Married</td>\n",
              "      <td>5130</td>\n",
              "      <td>24907</td>\n",
              "      <td>1</td>\n",
              "      <td>Y</td>\n",
              "      <td>No</td>\n",
              "      <td>23</td>\n",
              "      <td>4</td>\n",
              "      <td>4</td>\n",
              "      <td>80</td>\n",
              "      <td>1</td>\n",
              "      <td>10</td>\n",
              "      <td>3</td>\n",
              "      <td>3</td>\n",
              "      <td>10</td>\n",
              "      <td>7</td>\n",
              "      <td>1</td>\n",
              "      <td>7</td>\n",
              "    </tr>\n",
              "    <tr>\n",
              "      <th>2</th>\n",
              "      <td>37</td>\n",
              "      <td>Yes</td>\n",
              "      <td>Travel_Rarely</td>\n",
              "      <td>1373</td>\n",
              "      <td>Research &amp; Development</td>\n",
              "      <td>2</td>\n",
              "      <td>2</td>\n",
              "      <td>Other</td>\n",
              "      <td>1</td>\n",
              "      <td>4</td>\n",
              "      <td>4</td>\n",
              "      <td>Male</td>\n",
              "      <td>92</td>\n",
              "      <td>2</td>\n",
              "      <td>1</td>\n",
              "      <td>Laboratory Technician</td>\n",
              "      <td>3</td>\n",
              "      <td>Single</td>\n",
              "      <td>2090</td>\n",
              "      <td>2396</td>\n",
              "      <td>6</td>\n",
              "      <td>Y</td>\n",
              "      <td>Yes</td>\n",
              "      <td>15</td>\n",
              "      <td>3</td>\n",
              "      <td>2</td>\n",
              "      <td>80</td>\n",
              "      <td>0</td>\n",
              "      <td>7</td>\n",
              "      <td>3</td>\n",
              "      <td>3</td>\n",
              "      <td>0</td>\n",
              "      <td>0</td>\n",
              "      <td>0</td>\n",
              "      <td>0</td>\n",
              "    </tr>\n",
              "    <tr>\n",
              "      <th>3</th>\n",
              "      <td>33</td>\n",
              "      <td>No</td>\n",
              "      <td>Travel_Frequently</td>\n",
              "      <td>1392</td>\n",
              "      <td>Research &amp; Development</td>\n",
              "      <td>3</td>\n",
              "      <td>4</td>\n",
              "      <td>Life Sciences</td>\n",
              "      <td>1</td>\n",
              "      <td>5</td>\n",
              "      <td>4</td>\n",
              "      <td>Female</td>\n",
              "      <td>56</td>\n",
              "      <td>3</td>\n",
              "      <td>1</td>\n",
              "      <td>Research Scientist</td>\n",
              "      <td>3</td>\n",
              "      <td>Married</td>\n",
              "      <td>2909</td>\n",
              "      <td>23159</td>\n",
              "      <td>1</td>\n",
              "      <td>Y</td>\n",
              "      <td>Yes</td>\n",
              "      <td>11</td>\n",
              "      <td>3</td>\n",
              "      <td>3</td>\n",
              "      <td>80</td>\n",
              "      <td>0</td>\n",
              "      <td>8</td>\n",
              "      <td>3</td>\n",
              "      <td>3</td>\n",
              "      <td>8</td>\n",
              "      <td>7</td>\n",
              "      <td>3</td>\n",
              "      <td>0</td>\n",
              "    </tr>\n",
              "    <tr>\n",
              "      <th>4</th>\n",
              "      <td>27</td>\n",
              "      <td>No</td>\n",
              "      <td>Travel_Rarely</td>\n",
              "      <td>591</td>\n",
              "      <td>Research &amp; Development</td>\n",
              "      <td>2</td>\n",
              "      <td>1</td>\n",
              "      <td>Medical</td>\n",
              "      <td>1</td>\n",
              "      <td>7</td>\n",
              "      <td>1</td>\n",
              "      <td>Male</td>\n",
              "      <td>40</td>\n",
              "      <td>3</td>\n",
              "      <td>1</td>\n",
              "      <td>Laboratory Technician</td>\n",
              "      <td>2</td>\n",
              "      <td>Married</td>\n",
              "      <td>3468</td>\n",
              "      <td>16632</td>\n",
              "      <td>9</td>\n",
              "      <td>Y</td>\n",
              "      <td>No</td>\n",
              "      <td>12</td>\n",
              "      <td>3</td>\n",
              "      <td>4</td>\n",
              "      <td>80</td>\n",
              "      <td>1</td>\n",
              "      <td>6</td>\n",
              "      <td>3</td>\n",
              "      <td>3</td>\n",
              "      <td>2</td>\n",
              "      <td>2</td>\n",
              "      <td>2</td>\n",
              "      <td>2</td>\n",
              "    </tr>\n",
              "  </tbody>\n",
              "</table>\n",
              "</div>"
            ],
            "text/plain": [
              "   Age Attrition     BusinessTravel  DailyRate              Department  \\\n",
              "0   41       Yes      Travel_Rarely       1102                   Sales   \n",
              "1   49        No  Travel_Frequently        279  Research & Development   \n",
              "2   37       Yes      Travel_Rarely       1373  Research & Development   \n",
              "3   33        No  Travel_Frequently       1392  Research & Development   \n",
              "4   27        No      Travel_Rarely        591  Research & Development   \n",
              "\n",
              "   DistanceFromHome  Education EducationField  EmployeeCount  EmployeeNumber  \\\n",
              "0                 1          2  Life Sciences              1               1   \n",
              "1                 8          1  Life Sciences              1               2   \n",
              "2                 2          2          Other              1               4   \n",
              "3                 3          4  Life Sciences              1               5   \n",
              "4                 2          1        Medical              1               7   \n",
              "\n",
              "   EnvironmentSatisfaction  Gender  HourlyRate  JobInvolvement  JobLevel  \\\n",
              "0                        2  Female          94               3         2   \n",
              "1                        3    Male          61               2         2   \n",
              "2                        4    Male          92               2         1   \n",
              "3                        4  Female          56               3         1   \n",
              "4                        1    Male          40               3         1   \n",
              "\n",
              "                 JobRole  JobSatisfaction MaritalStatus  MonthlyIncome  \\\n",
              "0        Sales Executive                4        Single           5993   \n",
              "1     Research Scientist                2       Married           5130   \n",
              "2  Laboratory Technician                3        Single           2090   \n",
              "3     Research Scientist                3       Married           2909   \n",
              "4  Laboratory Technician                2       Married           3468   \n",
              "\n",
              "   MonthlyRate  NumCompaniesWorked Over18 OverTime  PercentSalaryHike  \\\n",
              "0        19479                   8      Y      Yes                 11   \n",
              "1        24907                   1      Y       No                 23   \n",
              "2         2396                   6      Y      Yes                 15   \n",
              "3        23159                   1      Y      Yes                 11   \n",
              "4        16632                   9      Y       No                 12   \n",
              "\n",
              "   PerformanceRating  RelationshipSatisfaction  StandardHours  \\\n",
              "0                  3                         1             80   \n",
              "1                  4                         4             80   \n",
              "2                  3                         2             80   \n",
              "3                  3                         3             80   \n",
              "4                  3                         4             80   \n",
              "\n",
              "   StockOptionLevel  TotalWorkingYears  TrainingTimesLastYear  \\\n",
              "0                 0                  8                      0   \n",
              "1                 1                 10                      3   \n",
              "2                 0                  7                      3   \n",
              "3                 0                  8                      3   \n",
              "4                 1                  6                      3   \n",
              "\n",
              "   WorkLifeBalance  YearsAtCompany  YearsInCurrentRole  \\\n",
              "0                1               6                   4   \n",
              "1                3              10                   7   \n",
              "2                3               0                   0   \n",
              "3                3               8                   7   \n",
              "4                3               2                   2   \n",
              "\n",
              "   YearsSinceLastPromotion  YearsWithCurrManager  \n",
              "0                        0                     5  \n",
              "1                        1                     7  \n",
              "2                        0                     0  \n",
              "3                        3                     0  \n",
              "4                        2                     2  "
            ]
          },
          "metadata": {
            "tags": []
          },
          "execution_count": 9
        }
      ]
    },
    {
      "cell_type": "markdown",
      "metadata": {
        "id": "qUKm78xynFTo",
        "colab_type": "text"
      },
      "source": [
        "> The dataset contains several numerical and categorical columns providing various information on employee's personal and employment details."
      ]
    },
    {
      "cell_type": "code",
      "metadata": {
        "ExecuteTime": {
          "end_time": "2019-02-26T17:04:28.699004Z",
          "start_time": "2019-02-26T17:04:28.678744Z"
        },
        "id": "8IJULdutnFTs",
        "colab_type": "code",
        "outputId": "8d759a23-ad00-4cf9-9a53-d35a92eecadd",
        "colab": {
          "base_uri": "https://localhost:8080/",
          "height": 218
        }
      },
      "source": [
        "df_HR.columns.to_series().groupby(df_HR.dtypes).groups"
      ],
      "execution_count": 10,
      "outputs": [
        {
          "output_type": "execute_result",
          "data": {
            "text/plain": [
              "{dtype('int64'): Index(['Age', 'DailyRate', 'DistanceFromHome', 'Education', 'EmployeeCount',\n",
              "        'EmployeeNumber', 'EnvironmentSatisfaction', 'HourlyRate',\n",
              "        'JobInvolvement', 'JobLevel', 'JobSatisfaction', 'MonthlyIncome',\n",
              "        'MonthlyRate', 'NumCompaniesWorked', 'PercentSalaryHike',\n",
              "        'PerformanceRating', 'RelationshipSatisfaction', 'StandardHours',\n",
              "        'StockOptionLevel', 'TotalWorkingYears', 'TrainingTimesLastYear',\n",
              "        'WorkLifeBalance', 'YearsAtCompany', 'YearsInCurrentRole',\n",
              "        'YearsSinceLastPromotion', 'YearsWithCurrManager'],\n",
              "       dtype='object'),\n",
              " dtype('O'): Index(['Attrition', 'BusinessTravel', 'Department', 'EducationField', 'Gender',\n",
              "        'JobRole', 'MaritalStatus', 'Over18', 'OverTime'],\n",
              "       dtype='object')}"
            ]
          },
          "metadata": {
            "tags": []
          },
          "execution_count": 10
        }
      ]
    },
    {
      "cell_type": "code",
      "metadata": {
        "ExecuteTime": {
          "end_time": "2019-02-26T17:04:31.771322Z",
          "start_time": "2019-02-26T17:04:31.760624Z"
        },
        "id": "B8AsU-B4nFT3",
        "colab_type": "code",
        "outputId": "89026dc1-ddec-4416-dacc-258e78914127",
        "colab": {
          "base_uri": "https://localhost:8080/",
          "height": 689
        }
      },
      "source": [
        "# Columns datatypes and missign values\n",
        "df_HR.info()"
      ],
      "execution_count": 11,
      "outputs": [
        {
          "output_type": "stream",
          "text": [
            "<class 'pandas.core.frame.DataFrame'>\n",
            "RangeIndex: 1470 entries, 0 to 1469\n",
            "Data columns (total 35 columns):\n",
            "Age                         1470 non-null int64\n",
            "Attrition                   1470 non-null object\n",
            "BusinessTravel              1470 non-null object\n",
            "DailyRate                   1470 non-null int64\n",
            "Department                  1470 non-null object\n",
            "DistanceFromHome            1470 non-null int64\n",
            "Education                   1470 non-null int64\n",
            "EducationField              1470 non-null object\n",
            "EmployeeCount               1470 non-null int64\n",
            "EmployeeNumber              1470 non-null int64\n",
            "EnvironmentSatisfaction     1470 non-null int64\n",
            "Gender                      1470 non-null object\n",
            "HourlyRate                  1470 non-null int64\n",
            "JobInvolvement              1470 non-null int64\n",
            "JobLevel                    1470 non-null int64\n",
            "JobRole                     1470 non-null object\n",
            "JobSatisfaction             1470 non-null int64\n",
            "MaritalStatus               1470 non-null object\n",
            "MonthlyIncome               1470 non-null int64\n",
            "MonthlyRate                 1470 non-null int64\n",
            "NumCompaniesWorked          1470 non-null int64\n",
            "Over18                      1470 non-null object\n",
            "OverTime                    1470 non-null object\n",
            "PercentSalaryHike           1470 non-null int64\n",
            "PerformanceRating           1470 non-null int64\n",
            "RelationshipSatisfaction    1470 non-null int64\n",
            "StandardHours               1470 non-null int64\n",
            "StockOptionLevel            1470 non-null int64\n",
            "TotalWorkingYears           1470 non-null int64\n",
            "TrainingTimesLastYear       1470 non-null int64\n",
            "WorkLifeBalance             1470 non-null int64\n",
            "YearsAtCompany              1470 non-null int64\n",
            "YearsInCurrentRole          1470 non-null int64\n",
            "YearsSinceLastPromotion     1470 non-null int64\n",
            "YearsWithCurrManager        1470 non-null int64\n",
            "dtypes: int64(26), object(9)\n",
            "memory usage: 402.1+ KB\n"
          ],
          "name": "stdout"
        }
      ]
    },
    {
      "cell_type": "markdown",
      "metadata": {
        "id": "OAhtlouMnFUC",
        "colab_type": "text"
      },
      "source": [
        "> The data provided has no missing values. In HR Analytics, employee data is unlikely to feature large ratio of missing values as HR Departments typically have all personal and employment data on-file. However, the type of documentation data is being kept in (i.e. whether it is paper-based, Excel spreadhsheets, databases, etc) has a massive impact on the accuracy and the ease of access to the HR data."
      ]
    },
    {
      "cell_type": "markdown",
      "metadata": {
        "id": "2jL5niPPnFUI",
        "colab_type": "text"
      },
      "source": [
        "#### Numerical features overview"
      ]
    },
    {
      "cell_type": "code",
      "metadata": {
        "ExecuteTime": {
          "end_time": "2019-02-26T17:07:46.256407Z",
          "start_time": "2019-02-26T17:07:46.157177Z"
        },
        "id": "2DRfmRcfnFUL",
        "colab_type": "code",
        "outputId": "fa62af0f-e4cf-495b-9587-70fd5e819a18",
        "colab": {
          "base_uri": "https://localhost:8080/",
          "height": 304
        }
      },
      "source": [
        "df_HR.describe()"
      ],
      "execution_count": 12,
      "outputs": [
        {
          "output_type": "execute_result",
          "data": {
            "text/html": [
              "<div>\n",
              "<style scoped>\n",
              "    .dataframe tbody tr th:only-of-type {\n",
              "        vertical-align: middle;\n",
              "    }\n",
              "\n",
              "    .dataframe tbody tr th {\n",
              "        vertical-align: top;\n",
              "    }\n",
              "\n",
              "    .dataframe thead th {\n",
              "        text-align: right;\n",
              "    }\n",
              "</style>\n",
              "<table border=\"1\" class=\"dataframe\">\n",
              "  <thead>\n",
              "    <tr style=\"text-align: right;\">\n",
              "      <th></th>\n",
              "      <th>Age</th>\n",
              "      <th>DailyRate</th>\n",
              "      <th>DistanceFromHome</th>\n",
              "      <th>Education</th>\n",
              "      <th>EmployeeCount</th>\n",
              "      <th>EmployeeNumber</th>\n",
              "      <th>EnvironmentSatisfaction</th>\n",
              "      <th>HourlyRate</th>\n",
              "      <th>JobInvolvement</th>\n",
              "      <th>JobLevel</th>\n",
              "      <th>JobSatisfaction</th>\n",
              "      <th>MonthlyIncome</th>\n",
              "      <th>MonthlyRate</th>\n",
              "      <th>NumCompaniesWorked</th>\n",
              "      <th>PercentSalaryHike</th>\n",
              "      <th>PerformanceRating</th>\n",
              "      <th>RelationshipSatisfaction</th>\n",
              "      <th>StandardHours</th>\n",
              "      <th>StockOptionLevel</th>\n",
              "      <th>TotalWorkingYears</th>\n",
              "      <th>TrainingTimesLastYear</th>\n",
              "      <th>WorkLifeBalance</th>\n",
              "      <th>YearsAtCompany</th>\n",
              "      <th>YearsInCurrentRole</th>\n",
              "      <th>YearsSinceLastPromotion</th>\n",
              "      <th>YearsWithCurrManager</th>\n",
              "    </tr>\n",
              "  </thead>\n",
              "  <tbody>\n",
              "    <tr>\n",
              "      <th>count</th>\n",
              "      <td>1470.000000</td>\n",
              "      <td>1470.000000</td>\n",
              "      <td>1470.000000</td>\n",
              "      <td>1470.000000</td>\n",
              "      <td>1470.0</td>\n",
              "      <td>1470.000000</td>\n",
              "      <td>1470.000000</td>\n",
              "      <td>1470.000000</td>\n",
              "      <td>1470.000000</td>\n",
              "      <td>1470.000000</td>\n",
              "      <td>1470.000000</td>\n",
              "      <td>1470.000000</td>\n",
              "      <td>1470.000000</td>\n",
              "      <td>1470.000000</td>\n",
              "      <td>1470.000000</td>\n",
              "      <td>1470.000000</td>\n",
              "      <td>1470.000000</td>\n",
              "      <td>1470.0</td>\n",
              "      <td>1470.000000</td>\n",
              "      <td>1470.000000</td>\n",
              "      <td>1470.000000</td>\n",
              "      <td>1470.000000</td>\n",
              "      <td>1470.000000</td>\n",
              "      <td>1470.000000</td>\n",
              "      <td>1470.000000</td>\n",
              "      <td>1470.000000</td>\n",
              "    </tr>\n",
              "    <tr>\n",
              "      <th>mean</th>\n",
              "      <td>36.923810</td>\n",
              "      <td>802.485714</td>\n",
              "      <td>9.192517</td>\n",
              "      <td>2.912925</td>\n",
              "      <td>1.0</td>\n",
              "      <td>1024.865306</td>\n",
              "      <td>2.721769</td>\n",
              "      <td>65.891156</td>\n",
              "      <td>2.729932</td>\n",
              "      <td>2.063946</td>\n",
              "      <td>2.728571</td>\n",
              "      <td>6502.931293</td>\n",
              "      <td>14313.103401</td>\n",
              "      <td>2.693197</td>\n",
              "      <td>15.209524</td>\n",
              "      <td>3.153741</td>\n",
              "      <td>2.712245</td>\n",
              "      <td>80.0</td>\n",
              "      <td>0.793878</td>\n",
              "      <td>11.279592</td>\n",
              "      <td>2.799320</td>\n",
              "      <td>2.761224</td>\n",
              "      <td>7.008163</td>\n",
              "      <td>4.229252</td>\n",
              "      <td>2.187755</td>\n",
              "      <td>4.123129</td>\n",
              "    </tr>\n",
              "    <tr>\n",
              "      <th>std</th>\n",
              "      <td>9.135373</td>\n",
              "      <td>403.509100</td>\n",
              "      <td>8.106864</td>\n",
              "      <td>1.024165</td>\n",
              "      <td>0.0</td>\n",
              "      <td>602.024335</td>\n",
              "      <td>1.093082</td>\n",
              "      <td>20.329428</td>\n",
              "      <td>0.711561</td>\n",
              "      <td>1.106940</td>\n",
              "      <td>1.102846</td>\n",
              "      <td>4707.956783</td>\n",
              "      <td>7117.786044</td>\n",
              "      <td>2.498009</td>\n",
              "      <td>3.659938</td>\n",
              "      <td>0.360824</td>\n",
              "      <td>1.081209</td>\n",
              "      <td>0.0</td>\n",
              "      <td>0.852077</td>\n",
              "      <td>7.780782</td>\n",
              "      <td>1.289271</td>\n",
              "      <td>0.706476</td>\n",
              "      <td>6.126525</td>\n",
              "      <td>3.623137</td>\n",
              "      <td>3.222430</td>\n",
              "      <td>3.568136</td>\n",
              "    </tr>\n",
              "    <tr>\n",
              "      <th>min</th>\n",
              "      <td>18.000000</td>\n",
              "      <td>102.000000</td>\n",
              "      <td>1.000000</td>\n",
              "      <td>1.000000</td>\n",
              "      <td>1.0</td>\n",
              "      <td>1.000000</td>\n",
              "      <td>1.000000</td>\n",
              "      <td>30.000000</td>\n",
              "      <td>1.000000</td>\n",
              "      <td>1.000000</td>\n",
              "      <td>1.000000</td>\n",
              "      <td>1009.000000</td>\n",
              "      <td>2094.000000</td>\n",
              "      <td>0.000000</td>\n",
              "      <td>11.000000</td>\n",
              "      <td>3.000000</td>\n",
              "      <td>1.000000</td>\n",
              "      <td>80.0</td>\n",
              "      <td>0.000000</td>\n",
              "      <td>0.000000</td>\n",
              "      <td>0.000000</td>\n",
              "      <td>1.000000</td>\n",
              "      <td>0.000000</td>\n",
              "      <td>0.000000</td>\n",
              "      <td>0.000000</td>\n",
              "      <td>0.000000</td>\n",
              "    </tr>\n",
              "    <tr>\n",
              "      <th>25%</th>\n",
              "      <td>30.000000</td>\n",
              "      <td>465.000000</td>\n",
              "      <td>2.000000</td>\n",
              "      <td>2.000000</td>\n",
              "      <td>1.0</td>\n",
              "      <td>491.250000</td>\n",
              "      <td>2.000000</td>\n",
              "      <td>48.000000</td>\n",
              "      <td>2.000000</td>\n",
              "      <td>1.000000</td>\n",
              "      <td>2.000000</td>\n",
              "      <td>2911.000000</td>\n",
              "      <td>8047.000000</td>\n",
              "      <td>1.000000</td>\n",
              "      <td>12.000000</td>\n",
              "      <td>3.000000</td>\n",
              "      <td>2.000000</td>\n",
              "      <td>80.0</td>\n",
              "      <td>0.000000</td>\n",
              "      <td>6.000000</td>\n",
              "      <td>2.000000</td>\n",
              "      <td>2.000000</td>\n",
              "      <td>3.000000</td>\n",
              "      <td>2.000000</td>\n",
              "      <td>0.000000</td>\n",
              "      <td>2.000000</td>\n",
              "    </tr>\n",
              "    <tr>\n",
              "      <th>50%</th>\n",
              "      <td>36.000000</td>\n",
              "      <td>802.000000</td>\n",
              "      <td>7.000000</td>\n",
              "      <td>3.000000</td>\n",
              "      <td>1.0</td>\n",
              "      <td>1020.500000</td>\n",
              "      <td>3.000000</td>\n",
              "      <td>66.000000</td>\n",
              "      <td>3.000000</td>\n",
              "      <td>2.000000</td>\n",
              "      <td>3.000000</td>\n",
              "      <td>4919.000000</td>\n",
              "      <td>14235.500000</td>\n",
              "      <td>2.000000</td>\n",
              "      <td>14.000000</td>\n",
              "      <td>3.000000</td>\n",
              "      <td>3.000000</td>\n",
              "      <td>80.0</td>\n",
              "      <td>1.000000</td>\n",
              "      <td>10.000000</td>\n",
              "      <td>3.000000</td>\n",
              "      <td>3.000000</td>\n",
              "      <td>5.000000</td>\n",
              "      <td>3.000000</td>\n",
              "      <td>1.000000</td>\n",
              "      <td>3.000000</td>\n",
              "    </tr>\n",
              "    <tr>\n",
              "      <th>75%</th>\n",
              "      <td>43.000000</td>\n",
              "      <td>1157.000000</td>\n",
              "      <td>14.000000</td>\n",
              "      <td>4.000000</td>\n",
              "      <td>1.0</td>\n",
              "      <td>1555.750000</td>\n",
              "      <td>4.000000</td>\n",
              "      <td>83.750000</td>\n",
              "      <td>3.000000</td>\n",
              "      <td>3.000000</td>\n",
              "      <td>4.000000</td>\n",
              "      <td>8379.000000</td>\n",
              "      <td>20461.500000</td>\n",
              "      <td>4.000000</td>\n",
              "      <td>18.000000</td>\n",
              "      <td>3.000000</td>\n",
              "      <td>4.000000</td>\n",
              "      <td>80.0</td>\n",
              "      <td>1.000000</td>\n",
              "      <td>15.000000</td>\n",
              "      <td>3.000000</td>\n",
              "      <td>3.000000</td>\n",
              "      <td>9.000000</td>\n",
              "      <td>7.000000</td>\n",
              "      <td>3.000000</td>\n",
              "      <td>7.000000</td>\n",
              "    </tr>\n",
              "    <tr>\n",
              "      <th>max</th>\n",
              "      <td>60.000000</td>\n",
              "      <td>1499.000000</td>\n",
              "      <td>29.000000</td>\n",
              "      <td>5.000000</td>\n",
              "      <td>1.0</td>\n",
              "      <td>2068.000000</td>\n",
              "      <td>4.000000</td>\n",
              "      <td>100.000000</td>\n",
              "      <td>4.000000</td>\n",
              "      <td>5.000000</td>\n",
              "      <td>4.000000</td>\n",
              "      <td>19999.000000</td>\n",
              "      <td>26999.000000</td>\n",
              "      <td>9.000000</td>\n",
              "      <td>25.000000</td>\n",
              "      <td>4.000000</td>\n",
              "      <td>4.000000</td>\n",
              "      <td>80.0</td>\n",
              "      <td>3.000000</td>\n",
              "      <td>40.000000</td>\n",
              "      <td>6.000000</td>\n",
              "      <td>4.000000</td>\n",
              "      <td>40.000000</td>\n",
              "      <td>18.000000</td>\n",
              "      <td>15.000000</td>\n",
              "      <td>17.000000</td>\n",
              "    </tr>\n",
              "  </tbody>\n",
              "</table>\n",
              "</div>"
            ],
            "text/plain": [
              "               Age    DailyRate  DistanceFromHome    Education  EmployeeCount  \\\n",
              "count  1470.000000  1470.000000       1470.000000  1470.000000         1470.0   \n",
              "mean     36.923810   802.485714          9.192517     2.912925            1.0   \n",
              "std       9.135373   403.509100          8.106864     1.024165            0.0   \n",
              "min      18.000000   102.000000          1.000000     1.000000            1.0   \n",
              "25%      30.000000   465.000000          2.000000     2.000000            1.0   \n",
              "50%      36.000000   802.000000          7.000000     3.000000            1.0   \n",
              "75%      43.000000  1157.000000         14.000000     4.000000            1.0   \n",
              "max      60.000000  1499.000000         29.000000     5.000000            1.0   \n",
              "\n",
              "       EmployeeNumber  EnvironmentSatisfaction   HourlyRate  JobInvolvement  \\\n",
              "count     1470.000000              1470.000000  1470.000000     1470.000000   \n",
              "mean      1024.865306                 2.721769    65.891156        2.729932   \n",
              "std        602.024335                 1.093082    20.329428        0.711561   \n",
              "min          1.000000                 1.000000    30.000000        1.000000   \n",
              "25%        491.250000                 2.000000    48.000000        2.000000   \n",
              "50%       1020.500000                 3.000000    66.000000        3.000000   \n",
              "75%       1555.750000                 4.000000    83.750000        3.000000   \n",
              "max       2068.000000                 4.000000   100.000000        4.000000   \n",
              "\n",
              "          JobLevel  JobSatisfaction  MonthlyIncome   MonthlyRate  \\\n",
              "count  1470.000000      1470.000000    1470.000000   1470.000000   \n",
              "mean      2.063946         2.728571    6502.931293  14313.103401   \n",
              "std       1.106940         1.102846    4707.956783   7117.786044   \n",
              "min       1.000000         1.000000    1009.000000   2094.000000   \n",
              "25%       1.000000         2.000000    2911.000000   8047.000000   \n",
              "50%       2.000000         3.000000    4919.000000  14235.500000   \n",
              "75%       3.000000         4.000000    8379.000000  20461.500000   \n",
              "max       5.000000         4.000000   19999.000000  26999.000000   \n",
              "\n",
              "       NumCompaniesWorked  PercentSalaryHike  PerformanceRating  \\\n",
              "count         1470.000000        1470.000000        1470.000000   \n",
              "mean             2.693197          15.209524           3.153741   \n",
              "std              2.498009           3.659938           0.360824   \n",
              "min              0.000000          11.000000           3.000000   \n",
              "25%              1.000000          12.000000           3.000000   \n",
              "50%              2.000000          14.000000           3.000000   \n",
              "75%              4.000000          18.000000           3.000000   \n",
              "max              9.000000          25.000000           4.000000   \n",
              "\n",
              "       RelationshipSatisfaction  StandardHours  StockOptionLevel  \\\n",
              "count               1470.000000         1470.0       1470.000000   \n",
              "mean                   2.712245           80.0          0.793878   \n",
              "std                    1.081209            0.0          0.852077   \n",
              "min                    1.000000           80.0          0.000000   \n",
              "25%                    2.000000           80.0          0.000000   \n",
              "50%                    3.000000           80.0          1.000000   \n",
              "75%                    4.000000           80.0          1.000000   \n",
              "max                    4.000000           80.0          3.000000   \n",
              "\n",
              "       TotalWorkingYears  TrainingTimesLastYear  WorkLifeBalance  \\\n",
              "count        1470.000000            1470.000000      1470.000000   \n",
              "mean           11.279592               2.799320         2.761224   \n",
              "std             7.780782               1.289271         0.706476   \n",
              "min             0.000000               0.000000         1.000000   \n",
              "25%             6.000000               2.000000         2.000000   \n",
              "50%            10.000000               3.000000         3.000000   \n",
              "75%            15.000000               3.000000         3.000000   \n",
              "max            40.000000               6.000000         4.000000   \n",
              "\n",
              "       YearsAtCompany  YearsInCurrentRole  YearsSinceLastPromotion  \\\n",
              "count     1470.000000         1470.000000              1470.000000   \n",
              "mean         7.008163            4.229252                 2.187755   \n",
              "std          6.126525            3.623137                 3.222430   \n",
              "min          0.000000            0.000000                 0.000000   \n",
              "25%          3.000000            2.000000                 0.000000   \n",
              "50%          5.000000            3.000000                 1.000000   \n",
              "75%          9.000000            7.000000                 3.000000   \n",
              "max         40.000000           18.000000                15.000000   \n",
              "\n",
              "       YearsWithCurrManager  \n",
              "count           1470.000000  \n",
              "mean               4.123129  \n",
              "std                3.568136  \n",
              "min                0.000000  \n",
              "25%                2.000000  \n",
              "50%                3.000000  \n",
              "75%                7.000000  \n",
              "max               17.000000  "
            ]
          },
          "metadata": {
            "tags": []
          },
          "execution_count": 12
        }
      ]
    },
    {
      "cell_type": "code",
      "metadata": {
        "ExecuteTime": {
          "end_time": "2019-02-26T17:10:32.790863Z",
          "start_time": "2019-02-26T17:10:30.177055Z"
        },
        "id": "y1x-BFBqnFUY",
        "colab_type": "code",
        "outputId": "b37e7a41-da58-4858-a248-151fc09cddc7",
        "colab": {
          "base_uri": "https://localhost:8080/",
          "height": 1000
        }
      },
      "source": [
        "df_HR.hist(figsize=(20,20))\n",
        "plt.show()"
      ],
      "execution_count": 13,
      "outputs": [
        {
          "output_type": "display_data",
          "data": {
            "image/png": "[encoded data removed]",
            "text/plain": [
              "<Figure size 1440x1440 with 30 Axes>"
            ]
          },
          "metadata": {
            "tags": []
          }
        }
      ]
    },
    {
      "cell_type": "markdown",
      "metadata": {
        "id": "teHhNN1PnFUp",
        "colab_type": "text"
      },
      "source": [
        "> A few observations can be made based on the information and histograms for numerical features:\n",
        " - Many histograms are tail-heavy; indeed several distributions are right-skewed (e.g. MonthlyIncome DistanceFromHome, YearsAtCompany). Data transformation methods may be required to approach a normal distribution prior to fitting a model to the data.\n",
        " - Age distribution is a slightly right-skewed normal distribution with the bulk of the staff between 25 and 45 years old.\n",
        " - EmployeeCount and StandardHours are constant values for all employees. They're likely to be redundant features.\n",
        " - Employee Number is likely to be a unique identifier for employees given the feature's quasi-uniform distribution."
      ]
    },
    {
      "cell_type": "markdown",
      "metadata": {
        "id": "2qyk3KHZnFUs",
        "colab_type": "text"
      },
      "source": [
        "Feature distribution by target attribute"
      ]
    },
    {
      "cell_type": "markdown",
      "metadata": {
        "id": "FoOjqzETnFUv",
        "colab_type": "text"
      },
      "source": [
        "#### Age"
      ]
    },
    {
      "cell_type": "markdown",
      "metadata": {
        "id": "fK6kwgKInFUz",
        "colab_type": "text"
      },
      "source": [
        "> The age distributions for Active and Ex-employees only differs by one year. <br>\n",
        "The average age of ex-employees is **33.6** years old, while **37.6** is the average age for current employees."
      ]
    },
    {
      "cell_type": "code",
      "metadata": {
        "ExecuteTime": {
          "end_time": "2019-02-26T17:17:11.519877Z",
          "start_time": "2019-02-26T17:17:11.505111Z"
        },
        "id": "y3q1UV89nFU2",
        "colab_type": "code",
        "outputId": "46fce840-c6cf-4b1d-a206-31bd025874f6",
        "colab": {
          "base_uri": "https://localhost:8080/",
          "height": 50
        }
      },
      "source": [
        "(mu, sigma) = norm.fit(df_HR.loc[df_HR['Attrition'] == 'Yes', 'Age'])\n",
        "print(\n",
        "    'Ex-exmployees: average age = {:.1f} years old and standard deviation = {:.1f}'.format(mu, sigma))\n",
        "(mu, sigma) = norm.fit(df_HR.loc[df_HR['Attrition'] == 'No', 'Age'])\n",
        "print('Current exmployees: average age = {:.1f} years old and standard deviation = {:.1f}'.format(\n",
        "    mu, sigma))"
      ],
      "execution_count": 14,
      "outputs": [
        {
          "output_type": "stream",
          "text": [
            "Ex-exmployees: average age = 33.6 years old and standard deviation = 9.7\n",
            "Current exmployees: average age = 37.6 years old and standard deviation = 8.9\n"
          ],
          "name": "stdout"
        }
      ]
    },
    {
      "cell_type": "markdown",
      "metadata": {
        "id": "MUtGZiAqnFVD",
        "colab_type": "text"
      },
      "source": [
        "> Let's create a kernel density estimation (KDE) plot colored by the value of the target. A kernel density estimation (KDE) is a non-parametric way to estimate the probability density function of a random variable."
      ]
    },
    {
      "cell_type": "code",
      "metadata": {
        "ExecuteTime": {
          "end_time": "2019-02-26T17:22:59.766353Z",
          "start_time": "2019-02-26T17:22:57.740340Z"
        },
        "id": "30iSbGhZnFVH",
        "colab_type": "code",
        "colab": {}
      },
      "source": [
        "# Add histogram data\n",
        "x1 = df_HR.loc[df_HR['Attrition'] == 'No', 'Age']\n",
        "x2 = df_HR.loc[df_HR['Attrition'] == 'Yes', 'Age']\n",
        "# Group data together\n",
        "hist_data = [x1, x2]\n",
        "group_labels = ['Active Employees', 'Ex-Employees']\n",
        "# Create distplot with custom bin_size\n",
        "fig = ff.create_distplot(hist_data, group_labels,\n",
        "                         curve_type='kde', show_hist=False, show_rug=False)\n",
        "# Add title\n",
        "fig['layout'].update(title='Age Distribution in Percent by Attrition Status')\n",
        "fig['layout'].update(xaxis=dict(range=[15, 60], dtick=5))\n",
        "# Plot\n",
        "py.iplot(fig, filename='Distplot with Multiple Datasets')"
      ],
      "execution_count": 0,
      "outputs": []
    },
    {
      "cell_type": "markdown",
      "metadata": {
        "id": "zoeDKoAFnFVT",
        "colab_type": "text"
      },
      "source": [
        "#### Education"
      ]
    },
    {
      "cell_type": "markdown",
      "metadata": {
        "id": "Y9xpU4zgnFVW",
        "colab_type": "text"
      },
      "source": [
        "> Several Education Fields are represented in the dataset, namely: Human Resources, Life Sciences, Marketing, Medical, Technical Degree, and a miscellaneous category Other. Here, I plot the normalized % of Leavers for each Education Field."
      ]
    },
    {
      "cell_type": "code",
      "metadata": {
        "id": "JpzMLqyrnFVZ",
        "colab_type": "code",
        "colab": {}
      },
      "source": [
        "# Education Field of employees\n",
        "df_HR['EducationField'].value_counts()"
      ],
      "execution_count": 0,
      "outputs": []
    },
    {
      "cell_type": "code",
      "metadata": {
        "id": "qDjYfszUnFVk",
        "colab_type": "code",
        "colab": {}
      },
      "source": [
        "df_EducationField = pd.DataFrame(columns=[\"Field\", \"% of Leavers\"])\n",
        "i=0\n",
        "for field in list(df_HR['EducationField'].unique()):\n",
        "    ratio = df_HR[(df_HR['EducationField']==field)&(df_HR['Attrition']==\"Yes\")].shape[0] / df_HR[df_HR['EducationField']==field].shape[0]\n",
        "    df_EducationField.loc[i] = (field, ratio*100)\n",
        "    i += 1\n",
        "    #print(\"In {}, the ratio of leavers is {:.2f}%\".format(field, ratio*100))    \n",
        "df_EF = df_EducationField.groupby(by=\"Field\").sum()\n",
        "df_EF\n"
      ],
      "execution_count": 0,
      "outputs": []
    },
    {
      "cell_type": "markdown",
      "metadata": {
        "id": "ghRzSXSlnFVv",
        "colab_type": "text"
      },
      "source": [
        "#### Gender"
      ]
    },
    {
      "cell_type": "markdown",
      "metadata": {
        "id": "4ZEXOOr4nFVy",
        "colab_type": "text"
      },
      "source": [
        "> Gender distribution shows that the dataset features a higher relative proportion of male ex-employees than female ex-employees, with normalised gender distribution of ex-employees in the dataset at 17.0% for Males and 14.8% for Females."
      ]
    },
    {
      "cell_type": "code",
      "metadata": {
        "id": "AJnfSwHRnFV1",
        "colab_type": "code",
        "colab": {}
      },
      "source": [
        "# Gender of employees\n",
        "df_HR['Gender'].value_counts()"
      ],
      "execution_count": 0,
      "outputs": []
    },
    {
      "cell_type": "code",
      "metadata": {
        "ExecuteTime": {
          "end_time": "2019-02-26T17:24:03.445736Z",
          "start_time": "2019-02-26T17:24:03.430550Z"
        },
        "id": "x--l0czPnFV-",
        "colab_type": "code",
        "colab": {}
      },
      "source": [
        "print(\"Normalised gender distribution of ex-employees in the dataset: Male = {:.1f}%; Female {:.1f}%.\".format((df_HR[(df_HR['Attrition'] == 'Yes') & (\n",
        "    df_HR['Gender'] == 'Male')].shape[0] / df_HR[df_HR['Gender'] == 'Male'].shape[0])*100, (df_HR[(df_HR['Attrition'] == 'Yes') & (df_HR['Gender'] == 'Female')].shape[0] / df_HR[df_HR['Gender'] == 'Female'].shape[0])*100))"
      ],
      "execution_count": 0,
      "outputs": []
    },
    {
      "cell_type": "code",
      "metadata": {
        "id": "y2k8Y8ANnFWI",
        "colab_type": "code",
        "colab": {}
      },
      "source": [
        "df_Gender = pd.DataFrame(columns=[\"Gender\", \"% of Leavers\"])\n",
        "i=0\n",
        "for field in list(df_HR['Gender'].unique()):\n",
        "    ratio = df_HR[(df_HR['Gender']==field)&(df_HR['Attrition']==\"Yes\")].shape[0] / df_HR[df_HR['Gender']==field].shape[0]\n",
        "    df_Gender.loc[i] = (field, ratio*100)\n",
        "    i += 1\n",
        "    #print(\"In {}, the ratio of leavers is {:.2f}%\".format(field, ratio*100))    \n",
        "df_G = df_Gender.groupby(by=\"Gender\").sum()\n",
        "df_G.iplot(kind='bar',title='Leavers by Gender (%)')"
      ],
      "execution_count": 0,
      "outputs": []
    },
    {
      "cell_type": "markdown",
      "metadata": {
        "id": "wFpITwjqnFWR",
        "colab_type": "text"
      },
      "source": [
        "#### Marital Status"
      ]
    },
    {
      "cell_type": "markdown",
      "metadata": {
        "id": "J34Dd_OLnFWU",
        "colab_type": "text"
      },
      "source": [
        "> The dataset features three marital status: Married (673 employees), Single (470 employees), Divorced (327 employees). <br>\n",
        "Single employees show the largest proportion of leavers at 25%."
      ]
    },
    {
      "cell_type": "code",
      "metadata": {
        "ExecuteTime": {
          "end_time": "2019-02-26T17:24:23.536407Z",
          "start_time": "2019-02-26T17:24:23.527184Z"
        },
        "id": "E_fOxT8AnFWb",
        "colab_type": "code",
        "colab": {}
      },
      "source": [
        "# Marital Status of employees\n",
        "df_HR['MaritalStatus'].value_counts()"
      ],
      "execution_count": 0,
      "outputs": []
    },
    {
      "cell_type": "code",
      "metadata": {
        "id": "WGrAD-EXnFWl",
        "colab_type": "code",
        "colab": {}
      },
      "source": [
        "df_Marital = pd.DataFrame(columns=[\"Marital Status\", \"% of Leavers\"])\n",
        "i=0\n",
        "for field in list(df_HR['MaritalStatus'].unique()):\n",
        "    ratio = df_HR[(df_HR['MaritalStatus']==field)&(df_HR['Attrition']==\"Yes\")].shape[0] / df_HR[df_HR['MaritalStatus']==field].shape[0]\n",
        "    df_Marital.loc[i] = (field, ratio*100)\n",
        "    i += 1\n",
        "    #print(\"In {}, the ratio of leavers is {:.2f}%\".format(field, ratio*100))    \n",
        "df_MF = df_Marital.groupby(by=\"Marital Status\").sum()\n",
        "df_MF.iplot(kind='bar',title='Leavers by Marital Status (%)')"
      ],
      "execution_count": 0,
      "outputs": []
    },
    {
      "cell_type": "markdown",
      "metadata": {
        "id": "PumMRsHfnFWw",
        "colab_type": "text"
      },
      "source": [
        "#### Distance from Home"
      ]
    },
    {
      "cell_type": "markdown",
      "metadata": {
        "id": "MmOCSd4MnFW0",
        "colab_type": "text"
      },
      "source": [
        "> Distance from home for employees to get to work varies from 1 to 29 miles. There is no discernable strong correlation between Distance from Home and Attrition Status as per the KDE plot below."
      ]
    },
    {
      "cell_type": "code",
      "metadata": {
        "ExecuteTime": {
          "end_time": "2019-02-26T17:24:39.197221Z",
          "start_time": "2019-02-26T17:24:39.179336Z"
        },
        "id": "U-dVOzpKnFW4",
        "colab_type": "code",
        "colab": {}
      },
      "source": [
        "# Distance from Home\n",
        "print(\"Distance from home for employees to get to work is from {} to {} miles.\".format(df_HR['DistanceFromHome'].min(),\n",
        "                                                                                       df_HR['DistanceFromHome'].max()))"
      ],
      "execution_count": 0,
      "outputs": []
    },
    {
      "cell_type": "code",
      "metadata": {
        "ExecuteTime": {
          "end_time": "2019-02-26T17:24:39.868875Z",
          "start_time": "2019-02-26T17:24:39.857155Z"
        },
        "id": "npbeGDgGnFXE",
        "colab_type": "code",
        "colab": {}
      },
      "source": [
        "print('Average distance from home for currently active employees: {:.2f} miles and ex-employees: {:.2f} miles'.format(\n",
        "    df_HR[df_HR['Attrition'] == 'No']['DistanceFromHome'].mean(), df_HR[df_HR['Attrition'] == 'Yes']['DistanceFromHome'].mean()))"
      ],
      "execution_count": 0,
      "outputs": []
    },
    {
      "cell_type": "code",
      "metadata": {
        "ExecuteTime": {
          "end_time": "2019-02-26T17:24:46.670496Z",
          "start_time": "2019-02-26T17:24:44.918647Z"
        },
        "id": "ayBG7P7mnFXS",
        "colab_type": "code",
        "colab": {}
      },
      "source": [
        "# Add histogram data\n",
        "x1 = df_HR.loc[df_HR['Attrition'] == 'No', 'DistanceFromHome']\n",
        "x2 = df_HR.loc[df_HR['Attrition'] == 'Yes', 'DistanceFromHome']\n",
        "# Group data together\n",
        "hist_data = [x1, x2]\n",
        "group_labels = ['Active Employees', 'Ex-Employees']\n",
        "# Create distplot with custom bin_size\n",
        "fig = ff.create_distplot(hist_data, group_labels,\n",
        "                         curve_type='kde', show_hist=False, show_rug=False)\n",
        "# Add title\n",
        "fig['layout'].update(\n",
        "    title='Distance From Home Distribution in Percent by Attrition Status')\n",
        "fig['layout'].update(xaxis=dict(range=[0, 30], dtick=2))\n",
        "# Plot\n",
        "py.iplot(fig, filename='Distplot with Multiple Datasets')"
      ],
      "execution_count": 0,
      "outputs": []
    },
    {
      "cell_type": "markdown",
      "metadata": {
        "id": "LBk65EStnFXc",
        "colab_type": "text"
      },
      "source": [
        "#### Department"
      ]
    },
    {
      "cell_type": "markdown",
      "metadata": {
        "id": "tGpJbV9dnFXe",
        "colab_type": "text"
      },
      "source": [
        "> The data features employee data from three departments: Research & Development, Sales, and Human Resources."
      ]
    },
    {
      "cell_type": "code",
      "metadata": {
        "ExecuteTime": {
          "end_time": "2019-02-26T17:25:51.988039Z",
          "start_time": "2019-02-26T17:25:51.976578Z"
        },
        "id": "0xXimqy2nFXh",
        "colab_type": "code",
        "colab": {}
      },
      "source": [
        "# The organisation consists of several departments\n",
        "df_HR['Department'].value_counts()"
      ],
      "execution_count": 0,
      "outputs": []
    },
    {
      "cell_type": "code",
      "metadata": {
        "id": "EnwejyzMnFXr",
        "colab_type": "code",
        "colab": {}
      },
      "source": [
        "df_Department = pd.DataFrame(columns=[\"Department\", \"% of Leavers\"])\n",
        "i=0\n",
        "for field in list(df_HR['Department'].unique()):\n",
        "    ratio = df_HR[(df_HR['Department']==field)&(df_HR['Attrition']==\"Yes\")].shape[0] / df_HR[df_HR['Department']==field].shape[0]\n",
        "    df_Department.loc[i] = (field, ratio*100)\n",
        "    i += 1\n",
        "    #print(\"In {}, the ratio of leavers is {:.2f}%\".format(field, ratio*100))    \n",
        "df_DF = df_Department.groupby(by=\"Department\").sum()\n",
        "df_DF.iplot(kind='bar',title='Leavers by Department (%)')"
      ],
      "execution_count": 0,
      "outputs": []
    },
    {
      "cell_type": "markdown",
      "metadata": {
        "id": "ZBSrGaSenFX0",
        "colab_type": "text"
      },
      "source": [
        "#### Role and Work Conditions"
      ]
    },
    {
      "cell_type": "markdown",
      "metadata": {
        "id": "iCBg7RWNnFX2",
        "colab_type": "text"
      },
      "source": [
        "> A preliminary look at the relationship between Business Travel frequency and Attrition Status shows that there is a largest normalized proportion of Leavers for employees that travel \"frequently\". Travel metrics associated with Business Travel status were not disclosed (i.e. how many hours of Travel is considered \"Frequent\")."
      ]
    },
    {
      "cell_type": "code",
      "metadata": {
        "ExecuteTime": {
          "end_time": "2019-02-26T17:26:02.759590Z",
          "start_time": "2019-02-26T17:26:02.751269Z"
        },
        "id": "E8XbgH3knFX5",
        "colab_type": "code",
        "colab": {}
      },
      "source": [
        "# Employees have different business travel commitmnent depending on their roles and level in the organisation\n",
        "df_HR['BusinessTravel'].value_counts()"
      ],
      "execution_count": 0,
      "outputs": []
    },
    {
      "cell_type": "code",
      "metadata": {
        "id": "0bhZnWYXnFYE",
        "colab_type": "code",
        "colab": {}
      },
      "source": [
        "df_BusinessTravel = pd.DataFrame(columns=[\"Business Travel\", \"% of Leavers\"])\n",
        "i=0\n",
        "for field in list(df_HR['BusinessTravel'].unique()):\n",
        "    ratio = df_HR[(df_HR['BusinessTravel']==field)&(df_HR['Attrition']==\"Yes\")].shape[0] / df_HR[df_HR['BusinessTravel']==field].shape[0]\n",
        "    df_BusinessTravel.loc[i] = (field, ratio*100)\n",
        "    i += 1\n",
        "    #print(\"In {}, the ratio of leavers is {:.2f}%\".format(field, ratio*100))    \n",
        "df_BT = df_BusinessTravel.groupby(by=\"Business Travel\").sum()\n",
        "df_BT.iplot(kind='bar',title='Leavers by Business Travel (%)')"
      ],
      "execution_count": 0,
      "outputs": []
    },
    {
      "cell_type": "markdown",
      "metadata": {
        "id": "6XoKc_OSnFYN",
        "colab_type": "text"
      },
      "source": [
        "> Several Job Roles are listed in the dataset: Sales Executive, Research Scientist, Laboratory Technician, Manufacturing Director, Healthcare Representative, Manager, Sales Representative, Research Director, Human Resources."
      ]
    },
    {
      "cell_type": "code",
      "metadata": {
        "ExecuteTime": {
          "end_time": "2019-02-26T17:32:43.178962Z",
          "start_time": "2019-02-26T17:32:43.171236Z"
        },
        "id": "2leMtLSBnFYQ",
        "colab_type": "code",
        "colab": {}
      },
      "source": [
        "# Employees in the database have several roles on-file\n",
        "df_HR['JobRole'].value_counts()"
      ],
      "execution_count": 0,
      "outputs": []
    },
    {
      "cell_type": "code",
      "metadata": {
        "id": "rjKYouyznFYZ",
        "colab_type": "code",
        "colab": {}
      },
      "source": [
        "df_JobRole = pd.DataFrame(columns=[\"Job Role\", \"% of Leavers\"])\n",
        "i=0\n",
        "for field in list(df_HR['JobRole'].unique()):\n",
        "    ratio = df_HR[(df_HR['JobRole']==field)&(df_HR['Attrition']==\"Yes\")].shape[0] / df_HR[df_HR['JobRole']==field].shape[0]\n",
        "    df_JobRole.loc[i] = (field, ratio*100)\n",
        "    i += 1\n",
        "    #print(\"In {}, the ratio of leavers is {:.2f}%\".format(field, ratio*100))    \n",
        "df_JR = df_JobRole.groupby(by=\"Job Role\").sum()\n",
        "df_JR.iplot(kind='bar',title='Leavers by Job Role (%)')"
      ],
      "execution_count": 0,
      "outputs": []
    },
    {
      "cell_type": "markdown",
      "metadata": {
        "id": "WFJ6D1funFYl",
        "colab_type": "text"
      },
      "source": [
        "> Employees have an assigned level within the organisation which varies from 1 (staff) to 5 (managerial/director). Employees with an assigned Job Level of \"1\" show the largest normalized proportion of Leavers."
      ]
    },
    {
      "cell_type": "code",
      "metadata": {
        "ExecuteTime": {
          "end_time": "2019-02-26T17:32:53.123041Z",
          "start_time": "2019-02-26T17:32:53.112061Z"
        },
        "id": "FlBqOWW7nFYq",
        "colab_type": "code",
        "colab": {}
      },
      "source": [
        "df_HR['JobLevel'].value_counts()"
      ],
      "execution_count": 0,
      "outputs": []
    },
    {
      "cell_type": "code",
      "metadata": {
        "id": "nehCgxNUnFY8",
        "colab_type": "code",
        "colab": {}
      },
      "source": [
        "df_JobLevel = pd.DataFrame(columns=[\"Job Level\", \"% of Leavers\"])\n",
        "i=0\n",
        "for field in list(df_HR['JobLevel'].unique()):\n",
        "    ratio = df_HR[(df_HR['JobLevel']==field)&(df_HR['Attrition']==\"Yes\")].shape[0] / df_HR[df_HR['JobLevel']==field].shape[0]\n",
        "    df_JobLevel.loc[i] = (field, ratio*100)\n",
        "    i += 1\n",
        "    #print(\"In {}, the ratio of leavers is {:.2f}%\".format(field, ratio*100))    \n",
        "df_JL = df_JobLevel.groupby(by=\"Job Level\").sum()\n",
        "df_JL.iplot(kind='bar',title='Leavers by Job Level (%)')"
      ],
      "execution_count": 0,
      "outputs": []
    },
    {
      "cell_type": "markdown",
      "metadata": {
        "id": "LOYCKFJYnFZP",
        "colab_type": "text"
      },
      "source": [
        "> A ranking is associated to the employee's Job Involvement :1 'Low' 2 'Medium' 3 'High' 4 'Very High'. The plot below indicates a negative correlation with the Job Involvement of an employee and the Attrition Status. In other words, employees with higher Job Involvement are less likely to leave."
      ]
    },
    {
      "cell_type": "code",
      "metadata": {
        "ExecuteTime": {
          "end_time": "2019-02-26T17:32:55.526061Z",
          "start_time": "2019-02-26T17:32:55.516931Z"
        },
        "id": "aqssWUeHnFZR",
        "colab_type": "code",
        "colab": {}
      },
      "source": [
        "df_HR['JobInvolvement'].value_counts()"
      ],
      "execution_count": 0,
      "outputs": []
    },
    {
      "cell_type": "code",
      "metadata": {
        "id": "ZUV1Qqg9nFZj",
        "colab_type": "code",
        "colab": {}
      },
      "source": [
        "df_JobInvolvement = pd.DataFrame(columns=[\"Job Involvement\", \"% of Leavers\"])\n",
        "i=0\n",
        "for field in list(df_HR['JobInvolvement'].unique()):\n",
        "    ratio = df_HR[(df_HR['JobInvolvement']==field)&(df_HR['Attrition']==\"Yes\")].shape[0] / df_HR[df_HR['JobInvolvement']==field].shape[0]\n",
        "    df_JobInvolvement.loc[i] = (field, ratio*100)\n",
        "    i += 1\n",
        "    #print(\"In {}, the ratio of leavers is {:.2f}%\".format(field, ratio*100))    \n",
        "df_JI = df_JobInvolvement.groupby(by=\"Job Involvement\").sum()\n",
        "df_JI.iplot(kind='bar',title='Leavers by Job Involvement (%)')"
      ],
      "execution_count": 0,
      "outputs": []
    },
    {
      "cell_type": "markdown",
      "metadata": {
        "id": "Hf6SrAxnnFZ0",
        "colab_type": "text"
      },
      "source": [
        "> The data indicates that employees may have access to some Training. A feature indicates how many years it's been since the employee attended such training."
      ]
    },
    {
      "cell_type": "code",
      "metadata": {
        "ExecuteTime": {
          "end_time": "2019-02-26T17:32:57.284487Z",
          "start_time": "2019-02-26T17:32:57.276298Z"
        },
        "id": "vDUMtMDdnFZ4",
        "colab_type": "code",
        "colab": {}
      },
      "source": [
        "print(\"Number of training times last year varies from {} to {} years.\".format(\n",
        "    df_HR['TrainingTimesLastYear'].min(), df_HR['TrainingTimesLastYear'].max()))"
      ],
      "execution_count": 0,
      "outputs": []
    },
    {
      "cell_type": "code",
      "metadata": {
        "id": "iESc_o79nFaG",
        "colab_type": "code",
        "colab": {}
      },
      "source": [
        "# Add histogram data\n",
        "x1 = df_HR.loc[df_HR['Attrition'] == 'No', 'TrainingTimesLastYear']\n",
        "x2 = df_HR.loc[df_HR['Attrition'] == 'Yes', 'TrainingTimesLastYear']\n",
        "# Group data together\n",
        "hist_data = [x1, x2]\n",
        "group_labels = ['Active Employees', 'Ex-Employees']\n",
        "# Create distplot with custom bin_size\n",
        "fig = ff.create_distplot(hist_data, group_labels,\n",
        "                         curve_type='kde', show_hist=False, show_rug=False)\n",
        "# Add title\n",
        "fig['layout'].update(\n",
        "    title='Training Times Last Year metric in Percent by Attrition Status')\n",
        "fig['layout'].update(xaxis=dict(range=[0, 6], dtick=1))\n",
        "# Plot\n",
        "py.iplot(fig, filename='Distplot with Multiple Datasets')"
      ],
      "execution_count": 0,
      "outputs": []
    },
    {
      "cell_type": "markdown",
      "metadata": {
        "id": "C5w28p7CnFaX",
        "colab_type": "text"
      },
      "source": [
        "> There is a feature for the number of companies the employee has worked at. <br>\n",
        "> 0 likely indicates that according to records, the employee has only worked at this company"
      ]
    },
    {
      "cell_type": "code",
      "metadata": {
        "ExecuteTime": {
          "end_time": "2019-02-26T17:32:58.858512Z",
          "start_time": "2019-02-26T17:32:58.848698Z"
        },
        "id": "sEzbtjP9nFaZ",
        "colab_type": "code",
        "colab": {}
      },
      "source": [
        "df_HR['NumCompaniesWorked'].value_counts()"
      ],
      "execution_count": 0,
      "outputs": []
    },
    {
      "cell_type": "code",
      "metadata": {
        "id": "TGNreV9FnFau",
        "colab_type": "code",
        "colab": {}
      },
      "source": [
        "df_NumCompaniesWorked = pd.DataFrame(columns=[\"Num Companies Worked\", \"% of Leavers\"])\n",
        "i=0\n",
        "for field in list(df_HR['NumCompaniesWorked'].unique()):\n",
        "    ratio = df_HR[(df_HR['NumCompaniesWorked']==field)&(df_HR['Attrition']==\"Yes\")].shape[0] / df_HR[df_HR['NumCompaniesWorked']==field].shape[0]\n",
        "    df_NumCompaniesWorked.loc[i] = (field, ratio*100)\n",
        "    i += 1\n",
        "    #print(\"In {}, the ratio of leavers is {:.2f}%\".format(field, ratio*100))    \n",
        "df_NC = df_NumCompaniesWorked.groupby(by=\"Num Companies Worked\").sum()\n",
        "df_NC.iplot(kind='bar',title='Leavers by Num Companies Worked (%)')"
      ],
      "execution_count": 0,
      "outputs": []
    },
    {
      "cell_type": "markdown",
      "metadata": {
        "id": "TEQ2Ozs1nFa-",
        "colab_type": "text"
      },
      "source": [
        "#### Years at the Company"
      ]
    },
    {
      "cell_type": "code",
      "metadata": {
        "id": "pf2rblIJnFbB",
        "colab_type": "code",
        "colab": {}
      },
      "source": [
        "df_HR"
      ],
      "execution_count": 0,
      "outputs": []
    },
    {
      "cell_type": "code",
      "metadata": {
        "id": "_8RSC57AnFbQ",
        "colab_type": "code",
        "colab": {}
      },
      "source": [
        "print('Average Number of Years at the company for currently active employees: {:.2f} miles and ex-employees: {:.2f} years'.format(\n",
        "    df_HR[df_HR['Attrition'] == 'No']['YearsAtCompany'].mean(), df_HR[df_HR['Attrition'] == 'Yes']['YearsAtCompany'].mean()))"
      ],
      "execution_count": 0,
      "outputs": []
    },
    {
      "cell_type": "code",
      "metadata": {
        "ExecuteTime": {
          "end_time": "2019-02-26T17:33:04.945211Z",
          "start_time": "2019-02-26T17:33:04.939946Z"
        },
        "id": "1Gx1avOhnFbh",
        "colab_type": "code",
        "colab": {}
      },
      "source": [
        "print(\"Number of Years at the company varies from {} to {} years.\".format(\n",
        "    df_HR['YearsAtCompany'].min(), df_HR['YearsAtCompany'].max()))"
      ],
      "execution_count": 0,
      "outputs": []
    },
    {
      "cell_type": "code",
      "metadata": {
        "ExecuteTime": {
          "end_time": "2019-02-26T17:33:10.801401Z",
          "start_time": "2019-02-26T17:33:08.893465Z"
        },
        "id": "qd3_PRFJnFbv",
        "colab_type": "code",
        "colab": {}
      },
      "source": [
        "# Add histogram data\n",
        "x1 = df_HR.loc[df_HR['Attrition'] == 'No', 'YearsAtCompany']\n",
        "x2 = df_HR.loc[df_HR['Attrition'] == 'Yes', 'YearsAtCompany']\n",
        "# Group data together\n",
        "hist_data = [x1, x2]\n",
        "group_labels = ['Active Employees', 'Ex-Employees']\n",
        "# Create distplot with custom bin_size\n",
        "fig = ff.create_distplot(hist_data, group_labels,\n",
        "                         curve_type='kde', show_hist=False, show_rug=False)\n",
        "# Add title\n",
        "fig['layout'].update(title='Years At Company in Percent by Attrition Status')\n",
        "fig['layout'].update(xaxis=dict(range=[0, 40], dtick=5))\n",
        "# Plot\n",
        "py.iplot(fig, filename='Distplot with Multiple Datasets')"
      ],
      "execution_count": 0,
      "outputs": []
    },
    {
      "cell_type": "code",
      "metadata": {
        "ExecuteTime": {
          "end_time": "2019-02-26T17:33:19.903172Z",
          "start_time": "2019-02-26T17:33:19.898332Z"
        },
        "id": "hfDrhKFynFb2",
        "colab_type": "code",
        "colab": {}
      },
      "source": [
        "print(\"Number of Years in the current role varies from {} to {} years.\".format(\n",
        "    df_HR['YearsInCurrentRole'].min(), df_HR['YearsInCurrentRole'].max()))"
      ],
      "execution_count": 0,
      "outputs": []
    },
    {
      "cell_type": "code",
      "metadata": {
        "id": "JYaBLBkdnFb9",
        "colab_type": "code",
        "colab": {}
      },
      "source": [
        "# Add histogram data\n",
        "x1 = df_HR.loc[df_HR['Attrition'] == 'No', 'YearsInCurrentRole']\n",
        "x2 = df_HR.loc[df_HR['Attrition'] == 'Yes', 'YearsInCurrentRole']\n",
        "# Group data together\n",
        "hist_data = [x1, x2]\n",
        "group_labels = ['Active Employees', 'Ex-Employees']\n",
        "# Create distplot with custom bin_size\n",
        "fig = ff.create_distplot(hist_data, group_labels,\n",
        "                         curve_type='kde', show_hist=False, show_rug=False)\n",
        "# Add title\n",
        "fig['layout'].update(title='Years InCurrent Role in Percent by Attrition Status')\n",
        "fig['layout'].update(xaxis=dict(range=[0, 18], dtick=1))\n",
        "# Plot\n",
        "py.iplot(fig, filename='Distplot with Multiple Datasets')"
      ],
      "execution_count": 0,
      "outputs": []
    },
    {
      "cell_type": "code",
      "metadata": {
        "ExecuteTime": {
          "end_time": "2019-02-26T17:33:20.652097Z",
          "start_time": "2019-02-26T17:33:20.645465Z"
        },
        "id": "K7lCJ5J0nFcE",
        "colab_type": "code",
        "colab": {}
      },
      "source": [
        "print(\"Number of Years since last promotion varies from {} to {} years.\".format(\n",
        "    df_HR['YearsSinceLastPromotion'].min(), df_HR['YearsSinceLastPromotion'].max()))"
      ],
      "execution_count": 0,
      "outputs": []
    },
    {
      "cell_type": "code",
      "metadata": {
        "id": "wj6AF5EqnFcL",
        "colab_type": "code",
        "colab": {}
      },
      "source": [
        "# Add histogram data\n",
        "x1 = df_HR.loc[df_HR['Attrition'] == 'No', 'YearsSinceLastPromotion']\n",
        "x2 = df_HR.loc[df_HR['Attrition'] == 'Yes', 'YearsSinceLastPromotion']\n",
        "# Group data together\n",
        "hist_data = [x1, x2]\n",
        "group_labels = ['Active Employees', 'Ex-Employees']\n",
        "# Create distplot with custom bin_size\n",
        "fig = ff.create_distplot(hist_data, group_labels,\n",
        "                         curve_type='kde', show_hist=False, show_rug=False)\n",
        "# Add title\n",
        "fig['layout'].update(title='Years Since Last Promotion in Percent by Attrition Status')\n",
        "fig['layout'].update(xaxis=dict(range=[0, 15], dtick=1))\n",
        "# Plot\n",
        "py.iplot(fig, filename='Distplot with Multiple Datasets')"
      ],
      "execution_count": 0,
      "outputs": []
    },
    {
      "cell_type": "code",
      "metadata": {
        "ExecuteTime": {
          "end_time": "2019-02-26T17:33:24.595137Z",
          "start_time": "2019-02-26T17:33:24.587030Z"
        },
        "id": "x0ncw6dMnFcR",
        "colab_type": "code",
        "colab": {}
      },
      "source": [
        "print(\"Total working years varies from {} to {} years.\".format(\n",
        "    df_HR['TotalWorkingYears'].min(), df_HR['TotalWorkingYears'].max()))"
      ],
      "execution_count": 0,
      "outputs": []
    },
    {
      "cell_type": "code",
      "metadata": {
        "id": "ZfTSggDhnFcY",
        "colab_type": "code",
        "colab": {}
      },
      "source": [
        "# Add histogram data\n",
        "x1 = df_HR.loc[df_HR['Attrition'] == 'No', 'TotalWorkingYears']\n",
        "x2 = df_HR.loc[df_HR['Attrition'] == 'Yes', 'TotalWorkingYears']\n",
        "# Group data together\n",
        "hist_data = [x1, x2]\n",
        "group_labels = ['Active Employees', 'Ex-Employees']\n",
        "# Create distplot with custom bin_size\n",
        "fig = ff.create_distplot(hist_data, group_labels,\n",
        "                         curve_type='kde', show_hist=False, show_rug=False)\n",
        "# Add title\n",
        "fig['layout'].update(title='Total Working Years in Percent by Attrition Status')\n",
        "fig['layout'].update(xaxis=dict(range=[0, 40], dtick=5))\n",
        "# Plot\n",
        "py.iplot(fig, filename='Distplot with Multiple Datasets')"
      ],
      "execution_count": 0,
      "outputs": []
    },
    {
      "cell_type": "markdown",
      "metadata": {
        "id": "lwW_9I9snFcf",
        "colab_type": "text"
      },
      "source": [
        "#### Years With Current Manager"
      ]
    },
    {
      "cell_type": "code",
      "metadata": {
        "id": "GMALmNuFnFch",
        "colab_type": "code",
        "colab": {}
      },
      "source": [
        "print('Average Number of Years wit current manager for currently active employees: {:.2f} miles and ex-employees: {:.2f} years'.format(\n",
        "    df_HR[df_HR['Attrition'] == 'No']['YearsWithCurrManager'].mean(), df_HR[df_HR['Attrition'] == 'Yes']['YearsWithCurrManager'].mean()))"
      ],
      "execution_count": 0,
      "outputs": []
    },
    {
      "cell_type": "code",
      "metadata": {
        "ExecuteTime": {
          "end_time": "2019-02-26T17:33:28.589679Z",
          "start_time": "2019-02-26T17:33:28.582117Z"
        },
        "id": "2lLylcIHnFcw",
        "colab_type": "code",
        "colab": {}
      },
      "source": [
        "print(\"Number of Years wit current manager varies from {} to {} years.\".format(\n",
        "    df_HR['YearsWithCurrManager'].min(), df_HR['YearsWithCurrManager'].max()))"
      ],
      "execution_count": 0,
      "outputs": []
    },
    {
      "cell_type": "code",
      "metadata": {
        "ExecuteTime": {
          "end_time": "2019-02-26T17:33:31.588320Z",
          "start_time": "2019-02-26T17:33:28.592985Z"
        },
        "id": "Jj7WxNEznFc3",
        "colab_type": "code",
        "colab": {}
      },
      "source": [
        "# Add histogram data\n",
        "x1 = df_HR.loc[df_HR['Attrition'] == 'No', 'YearsWithCurrManager']\n",
        "x2 = df_HR.loc[df_HR['Attrition'] == 'Yes', 'YearsWithCurrManager']\n",
        "# Group data together\n",
        "hist_data = [x1, x2]\n",
        "group_labels = ['Active Employees', 'Ex-Employees']\n",
        "# Create distplot with custom bin_size\n",
        "fig = ff.create_distplot(hist_data, group_labels,\n",
        "                         curve_type='kde', show_hist=False, show_rug=False)\n",
        "# Add title\n",
        "fig['layout'].update(\n",
        "    title='Years With Curr Manager in Percent by Attrition Status')\n",
        "fig['layout'].update(xaxis=dict(range=[0, 17], dtick=1))\n",
        "# Plot\n",
        "py.iplot(fig, filename='Distplot with Multiple Datasets')"
      ],
      "execution_count": 0,
      "outputs": []
    },
    {
      "cell_type": "markdown",
      "metadata": {
        "id": "q7EjHzOSnFc-",
        "colab_type": "text"
      },
      "source": [
        "#### Work-Life Balance Score"
      ]
    },
    {
      "cell_type": "markdown",
      "metadata": {
        "id": "ltWRREqUnFdA",
        "colab_type": "text"
      },
      "source": [
        "> A feature related to \"Work-Life Balance\" was captured as: 1 'Bad' 2 'Good' 3 'Better' 4 'Best'. The data indicates that the largest normalised proportion of Leavers had \"Bad\" Work-Life Balance."
      ]
    },
    {
      "cell_type": "code",
      "metadata": {
        "ExecuteTime": {
          "end_time": "2019-02-26T17:33:37.907622Z",
          "start_time": "2019-02-26T17:33:37.896498Z"
        },
        "id": "hVGbDuHpnFdC",
        "colab_type": "code",
        "colab": {}
      },
      "source": [
        "df_HR['WorkLifeBalance'].value_counts()"
      ],
      "execution_count": 0,
      "outputs": []
    },
    {
      "cell_type": "code",
      "metadata": {
        "ExecuteTime": {
          "end_time": "2019-02-26T17:33:40.167381Z",
          "start_time": "2019-02-26T17:33:38.117086Z"
        },
        "id": "uJSJVNEUnFdI",
        "colab_type": "code",
        "colab": {}
      },
      "source": [
        "df_WorkLifeBalance = pd.DataFrame(columns=[\"WorkLifeBalance\", \"% of Leavers\"])\n",
        "i=0\n",
        "for field in list(df_HR['WorkLifeBalance'].unique()):\n",
        "    ratio = df_HR[(df_HR['WorkLifeBalance']==field)&(df_HR['Attrition']==\"Yes\")].shape[0] / df_HR[df_HR['WorkLifeBalance']==field].shape[0]\n",
        "    df_WorkLifeBalance.loc[i] = (field, ratio*100)\n",
        "    i += 1\n",
        "    #print(\"In {}, the ratio of leavers is {:.2f}%\".format(field, ratio*100))    \n",
        "df_WLB = df_WorkLifeBalance.groupby(by=\"WorkLifeBalance\").sum()\n",
        "df_WLB.iplot(kind='bar',title='Leavers by WorkLifeBalance (%)')"
      ],
      "execution_count": 0,
      "outputs": []
    },
    {
      "cell_type": "markdown",
      "metadata": {
        "id": "TdB305UTnFdS",
        "colab_type": "text"
      },
      "source": [
        "> All employees have a standard 80-hour work commitment"
      ]
    },
    {
      "cell_type": "code",
      "metadata": {
        "ExecuteTime": {
          "end_time": "2019-02-26T17:33:42.180449Z",
          "start_time": "2019-02-26T17:33:42.167857Z"
        },
        "id": "j4gUp8r2nFdc",
        "colab_type": "code",
        "colab": {}
      },
      "source": [
        "df_HR['StandardHours'].value_counts()"
      ],
      "execution_count": 0,
      "outputs": []
    },
    {
      "cell_type": "markdown",
      "metadata": {
        "id": "P7GH5mBbnFdn",
        "colab_type": "text"
      },
      "source": [
        "> Some employees have overtime commitments. The data clearly show that there is significant larger portion of employees with OT that have left the company."
      ]
    },
    {
      "cell_type": "code",
      "metadata": {
        "ExecuteTime": {
          "end_time": "2019-02-26T17:33:24.613190Z",
          "start_time": "2019-02-26T17:33:24.598613Z"
        },
        "scrolled": true,
        "id": "eB0BIy2NnFdv",
        "colab_type": "code",
        "colab": {}
      },
      "source": [
        "df_HR['OverTime'].value_counts()"
      ],
      "execution_count": 0,
      "outputs": []
    },
    {
      "cell_type": "code",
      "metadata": {
        "id": "_WkI40LMnFd7",
        "colab_type": "code",
        "colab": {}
      },
      "source": [
        "df_OverTime = pd.DataFrame(columns=[\"OverTime\", \"% of Leavers\"])\n",
        "i=0\n",
        "for field in list(df_HR['OverTime'].unique()):\n",
        "    ratio = df_HR[(df_HR['OverTime']==field)&(df_HR['Attrition']==\"Yes\")].shape[0] / df_HR[df_HR['OverTime']==field].shape[0]\n",
        "    df_OverTime.loc[i] = (field, ratio*100)\n",
        "    i += 1\n",
        "    #print(\"In {}, the ratio of leavers is {:.2f}%\".format(field, ratio*100))    \n",
        "df_OT = df_OverTime.groupby(by=\"OverTime\").sum()\n",
        "df_OT.iplot(kind='bar',title='Leavers by OverTime (%)')"
      ],
      "execution_count": 0,
      "outputs": []
    },
    {
      "cell_type": "markdown",
      "metadata": {
        "id": "sC5N4KJWnFeD",
        "colab_type": "text"
      },
      "source": [
        "#### Pay/Salary Employee Information"
      ]
    },
    {
      "cell_type": "code",
      "metadata": {
        "ExecuteTime": {
          "end_time": "2019-02-26T17:33:45.871154Z",
          "start_time": "2019-02-26T17:33:45.863994Z"
        },
        "id": "Nm-xpVsvnFeF",
        "colab_type": "code",
        "colab": {}
      },
      "source": [
        "print(\"Employee Hourly Rate varies from ${} to ${}.\".format(\n",
        "    df_HR['HourlyRate'].min(), df_HR['HourlyRate'].max()))"
      ],
      "execution_count": 0,
      "outputs": []
    },
    {
      "cell_type": "code",
      "metadata": {
        "ExecuteTime": {
          "end_time": "2019-02-26T17:33:47.521697Z",
          "start_time": "2019-02-26T17:33:47.513959Z"
        },
        "id": "zNCaf-9ynFeP",
        "colab_type": "code",
        "colab": {}
      },
      "source": [
        "print(\"Employee Daily Rate varies from ${} to ${}.\".format(\n",
        "    df_HR['DailyRate'].min(), df_HR['DailyRate'].max()))"
      ],
      "execution_count": 0,
      "outputs": []
    },
    {
      "cell_type": "code",
      "metadata": {
        "ExecuteTime": {
          "end_time": "2019-02-26T17:33:49.163333Z",
          "start_time": "2019-02-26T17:33:49.155766Z"
        },
        "id": "MCTtOViwnFeW",
        "colab_type": "code",
        "colab": {}
      },
      "source": [
        "print(\"Employee Monthly Rate varies from ${} to ${}.\".format(\n",
        "    df_HR['MonthlyRate'].min(), df_HR['MonthlyRate'].max()))"
      ],
      "execution_count": 0,
      "outputs": []
    },
    {
      "cell_type": "code",
      "metadata": {
        "ExecuteTime": {
          "end_time": "2019-02-26T17:33:50.559036Z",
          "start_time": "2019-02-26T17:33:50.551761Z"
        },
        "id": "HuVsihqbnFei",
        "colab_type": "code",
        "colab": {}
      },
      "source": [
        "print(\"Employee Monthly Income varies from ${} to ${}.\".format(\n",
        "    df_HR['MonthlyIncome'].min(), df_HR['MonthlyIncome'].max()))"
      ],
      "execution_count": 0,
      "outputs": []
    },
    {
      "cell_type": "code",
      "metadata": {
        "ExecuteTime": {
          "end_time": "2019-02-26T17:33:52.785447Z",
          "start_time": "2019-02-26T17:33:50.680438Z"
        },
        "id": "XvVXFFHqnFeq",
        "colab_type": "code",
        "colab": {}
      },
      "source": [
        "# Add histogram data\n",
        "x1 = df_HR.loc[df_HR['Attrition'] == 'No', 'MonthlyIncome']\n",
        "x2 = df_HR.loc[df_HR['Attrition'] == 'Yes', 'MonthlyIncome']\n",
        "# Group data together\n",
        "hist_data = [x1, x2]\n",
        "group_labels = ['Active Employees', 'Ex-Employees']\n",
        "# Create distplot with custom bin_size\n",
        "fig = ff.create_distplot(hist_data, group_labels,\n",
        "                         curve_type='kde', show_hist=False, show_rug=False)\n",
        "# Add title\n",
        "fig['layout'].update(title='Monthly Income by Attrition Status')\n",
        "fig['layout'].update(xaxis=dict(range=[0, 20000], dtick=2000))\n",
        "# Plot\n",
        "py.iplot(fig, filename='Distplot with Multiple Datasets')"
      ],
      "execution_count": 0,
      "outputs": []
    },
    {
      "cell_type": "code",
      "metadata": {
        "ExecuteTime": {
          "end_time": "2019-02-26T17:33:57.173763Z",
          "start_time": "2019-02-26T17:33:57.160269Z"
        },
        "id": "aRoJfPIRnFey",
        "colab_type": "code",
        "colab": {}
      },
      "source": [
        "print(\"Percentage Salary Hikes varies from {}% to {}%.\".format(\n",
        "    df_HR['PercentSalaryHike'].min(), df_HR['PercentSalaryHike'].max()))"
      ],
      "execution_count": 0,
      "outputs": []
    },
    {
      "cell_type": "code",
      "metadata": {
        "ExecuteTime": {
          "end_time": "2019-02-26T17:34:01.284384Z",
          "start_time": "2019-02-26T17:33:59.196505Z"
        },
        "id": "mxHQwh1anFe4",
        "colab_type": "code",
        "colab": {}
      },
      "source": [
        "# Add histogram data\n",
        "x1 = df_HR.loc[df_HR['Attrition'] == 'No', 'PercentSalaryHike']\n",
        "x2 = df_HR.loc[df_HR['Attrition'] == 'Yes', 'PercentSalaryHike']\n",
        "# Group data together\n",
        "hist_data = [x1, x2]\n",
        "group_labels = ['Active Employees', 'Ex-Employees']\n",
        "# Create distplot with custom bin_size\n",
        "fig = ff.create_distplot(hist_data, group_labels,\n",
        "                         curve_type='kde', show_hist=False, show_rug=False)\n",
        "# Add title\n",
        "fig['layout'].update(title='Percent Salary Hike by Attrition Status')\n",
        "fig['layout'].update(xaxis=dict(range=[10, 26], dtick=1))\n",
        "# Plot\n",
        "py.iplot(fig, filename='Distplot with Multiple Datasets')"
      ],
      "execution_count": 0,
      "outputs": []
    },
    {
      "cell_type": "code",
      "metadata": {
        "ExecuteTime": {
          "end_time": "2019-02-26T17:34:01.300618Z",
          "start_time": "2019-02-26T17:34:01.288154Z"
        },
        "id": "WQ_kWeWpnFfA",
        "colab_type": "code",
        "colab": {}
      },
      "source": [
        "print(\"Stock Option Levels varies from {} to {}.\".format(\n",
        "    df_HR['StockOptionLevel'].min(), df_HR['StockOptionLevel'].max()))"
      ],
      "execution_count": 0,
      "outputs": []
    },
    {
      "cell_type": "code",
      "metadata": {
        "ExecuteTime": {
          "end_time": "2019-02-26T17:34:05.306907Z",
          "start_time": "2019-02-26T17:34:05.281163Z"
        },
        "id": "tcW8HAjFnFfK",
        "colab_type": "code",
        "colab": {}
      },
      "source": [
        "print(\"Normalised percentage of leavers by Stock Option Level: 1: {:.2f}%, 2: {:.2f}%, 3: {:.2f}%\".format(\n",
        "    df_HR[(df_HR['Attrition'] == 'Yes') & (df_HR['StockOptionLevel'] == 1)\n",
        "          ].shape[0] / df_HR[df_HR['StockOptionLevel'] == 1].shape[0]*100,\n",
        "    df_HR[(df_HR['Attrition'] == 'Yes') & (df_HR['StockOptionLevel'] == 2)\n",
        "          ].shape[0] / df_HR[df_HR['StockOptionLevel'] == 1].shape[0]*100,\n",
        "    df_HR[(df_HR['Attrition'] == 'Yes') & (df_HR['StockOptionLevel'] == 3)].shape[0] / df_HR[df_HR['StockOptionLevel'] == 1].shape[0]*100))"
      ],
      "execution_count": 0,
      "outputs": []
    },
    {
      "cell_type": "code",
      "metadata": {
        "ExecuteTime": {
          "end_time": "2019-02-26T17:34:07.325700Z",
          "start_time": "2019-02-26T17:34:05.492995Z"
        },
        "id": "6k0L5wKunFfe",
        "colab_type": "code",
        "colab": {}
      },
      "source": [
        "df_StockOptionLevel = pd.DataFrame(columns=[\"StockOptionLevel\", \"% of Leavers\"])\n",
        "i=0\n",
        "for field in list(df_HR['StockOptionLevel'].unique()):\n",
        "    ratio = df_HR[(df_HR['StockOptionLevel']==field)&(df_HR['Attrition']==\"Yes\")].shape[0] / df_HR[df_HR['StockOptionLevel']==field].shape[0]\n",
        "    df_StockOptionLevel.loc[i] = (field, ratio*100)\n",
        "    i += 1\n",
        "    #print(\"In {}, the ratio of leavers is {:.2f}%\".format(field, ratio*100))    \n",
        "df_SOL = df_StockOptionLevel.groupby(by=\"StockOptionLevel\").sum()\n",
        "df_SOL.iplot(kind='bar',title='Leavers by Stock Option Level (%)')"
      ],
      "execution_count": 0,
      "outputs": []
    },
    {
      "cell_type": "markdown",
      "metadata": {
        "id": "5xUo4xlXnFgp",
        "colab_type": "text"
      },
      "source": [
        "#### Employee Satisfaction and Performance Information"
      ]
    },
    {
      "cell_type": "markdown",
      "metadata": {
        "id": "d-g35zT8nFgu",
        "colab_type": "text"
      },
      "source": [
        "> Environment Satisfaction was captured as: 1 'Low' 2 'Medium' 3 'High' 4 'Very High'. <br> \n",
        "Proportion of Leaving Employees decreases as the Environment Satisfaction score increases."
      ]
    },
    {
      "cell_type": "code",
      "metadata": {
        "ExecuteTime": {
          "end_time": "2019-02-26T17:34:10.643374Z",
          "start_time": "2019-02-26T17:34:10.633995Z"
        },
        "id": "uBCOfdKtnFgy",
        "colab_type": "code",
        "colab": {}
      },
      "source": [
        "df_HR['EnvironmentSatisfaction'].value_counts()"
      ],
      "execution_count": 0,
      "outputs": []
    },
    {
      "cell_type": "code",
      "metadata": {
        "id": "quWIDq6wnFg-",
        "colab_type": "code",
        "colab": {}
      },
      "source": [
        "df_EnvironmentSatisfaction = pd.DataFrame(columns=[\"EnvironmentSatisfaction\", \"% of Leavers\"])\n",
        "i=0\n",
        "for field in list(df_HR['EnvironmentSatisfaction'].unique()):\n",
        "    ratio = df_HR[(df_HR['EnvironmentSatisfaction']==field)&(df_HR['Attrition']==\"Yes\")].shape[0] / df_HR[df_HR['EnvironmentSatisfaction']==field].shape[0]\n",
        "    df_EnvironmentSatisfaction.loc[i] = (field, ratio*100)\n",
        "    i += 1\n",
        "    #print(\"In {}, the ratio of leavers is {:.2f}%\".format(field, ratio*100))    \n",
        "df_Env = df_EnvironmentSatisfaction.groupby(by=\"EnvironmentSatisfaction\").sum()\n",
        "df_Env.iplot(kind='bar',title='Leavers by Environment Satisfaction (%)')"
      ],
      "execution_count": 0,
      "outputs": []
    },
    {
      "cell_type": "markdown",
      "metadata": {
        "id": "3800BBnynFhP",
        "colab_type": "text"
      },
      "source": [
        "> Job Satisfaction was captured as: 1 'Low' 2 'Medium' 3 'High' 4 'Very High'. <br> \n",
        "Proportion of Leaving Employees decreases as the Job Satisfaction score increases."
      ]
    },
    {
      "cell_type": "code",
      "metadata": {
        "ExecuteTime": {
          "end_time": "2019-02-26T17:34:13.476654Z",
          "start_time": "2019-02-26T17:34:13.462306Z"
        },
        "id": "fWKFTX7lnFhT",
        "colab_type": "code",
        "colab": {}
      },
      "source": [
        "# Job Satisfaction was captured as: 1 'Low' 2 'Medium' 3 'High' 4 'Very High'\n",
        "df_HR['JobSatisfaction'].value_counts()"
      ],
      "execution_count": 0,
      "outputs": []
    },
    {
      "cell_type": "code",
      "metadata": {
        "ExecuteTime": {
          "end_time": "2019-02-26T17:34:20.063756Z",
          "start_time": "2019-02-26T17:34:18.049645Z"
        },
        "id": "al-kPownnFhh",
        "colab_type": "code",
        "colab": {}
      },
      "source": [
        "df_JobSatisfaction = pd.DataFrame(columns=[\"JobSatisfaction\", \"% of Leavers\"])\n",
        "i=0\n",
        "for field in list(df_HR['JobSatisfaction'].unique()):\n",
        "    ratio = df_HR[(df_HR['JobSatisfaction']==field)&(df_HR['Attrition']==\"Yes\")].shape[0] / df_HR[df_HR['JobSatisfaction']==field].shape[0]\n",
        "    df_JobSatisfaction.loc[i] = (field, ratio*100)\n",
        "    i += 1\n",
        "    #print(\"In {}, the ratio of leavers is {:.2f}%\".format(field, ratio*100))    \n",
        "df_JS = df_JobSatisfaction.groupby(by=\"JobSatisfaction\").sum()\n",
        "df_JS.iplot(kind='bar',title='Leavers by Job Satisfaction (%)')"
      ],
      "execution_count": 0,
      "outputs": []
    },
    {
      "cell_type": "markdown",
      "metadata": {
        "id": "LKSs_8IXnFhq",
        "colab_type": "text"
      },
      "source": [
        "> Relationship Satisfaction was captured as: 1 'Low', 2 'Medium', 3 'High', 4 'Very High'."
      ]
    },
    {
      "cell_type": "code",
      "metadata": {
        "ExecuteTime": {
          "end_time": "2019-02-26T17:34:21.624859Z",
          "start_time": "2019-02-26T17:34:21.615539Z"
        },
        "id": "YZBaym20nFjA",
        "colab_type": "code",
        "colab": {}
      },
      "source": [
        "df_HR['RelationshipSatisfaction'].value_counts()"
      ],
      "execution_count": 0,
      "outputs": []
    },
    {
      "cell_type": "code",
      "metadata": {
        "id": "xY3lY04BnFjJ",
        "colab_type": "code",
        "colab": {}
      },
      "source": [
        "df_RelationshipSatisfaction = pd.DataFrame(columns=[\"RelationshipSatisfaction\", \"% of Leavers\"])\n",
        "i=0\n",
        "for field in list(df_HR['RelationshipSatisfaction'].unique()):\n",
        "    ratio = df_HR[(df_HR['RelationshipSatisfaction']==field)&(df_HR['Attrition']==\"Yes\")].shape[0] / df_HR[df_HR['RelationshipSatisfaction']==field].shape[0]\n",
        "    df_RelationshipSatisfaction.loc[i] = (field, ratio*100)\n",
        "    i += 1\n",
        "    #print(\"In {}, the ratio of leavers is {:.2f}%\".format(field, ratio*100))    \n",
        "df_RS = df_RelationshipSatisfaction.groupby(by=\"RelationshipSatisfaction\").sum()\n",
        "df_RS.iplot(kind='bar',title='Leavers by Relationship Satisfaction (%)')"
      ],
      "execution_count": 0,
      "outputs": []
    },
    {
      "cell_type": "markdown",
      "metadata": {
        "id": "X3JifXz-nFjT",
        "colab_type": "text"
      },
      "source": [
        "> Employee Performance Rating was captured as: 1 'Low' 2 'Good' 3 'Excellent' 4 'Outstanding'"
      ]
    },
    {
      "cell_type": "code",
      "metadata": {
        "ExecuteTime": {
          "end_time": "2019-02-26T17:34:23.293321Z",
          "start_time": "2019-02-26T17:34:23.284867Z"
        },
        "id": "XEX-JDVHnFjY",
        "colab_type": "code",
        "colab": {}
      },
      "source": [
        "df_HR['PerformanceRating'].value_counts()"
      ],
      "execution_count": 0,
      "outputs": []
    },
    {
      "cell_type": "code",
      "metadata": {
        "ExecuteTime": {
          "end_time": "2019-02-26T17:34:23.314235Z",
          "start_time": "2019-02-26T17:34:23.296543Z"
        },
        "id": "7bClJwbtnFjg",
        "colab_type": "code",
        "colab": {}
      },
      "source": [
        "print(\"Normalised percentage of leavers by Stock Option Level: 3: {:.2f}%, 4: {:.2f}%\".format(\n",
        "    df_HR[(df_HR['Attrition'] == 'Yes') & (df_HR['PerformanceRating'] == 3)\n",
        "          ].shape[0] / df_HR[df_HR['StockOptionLevel'] == 1].shape[0]*100,\n",
        "    df_HR[(df_HR['Attrition'] == 'Yes') & (df_HR['PerformanceRating'] == 4)].shape[0] / df_HR[df_HR['StockOptionLevel'] == 1].shape[0]*100))"
      ],
      "execution_count": 0,
      "outputs": []
    },
    {
      "cell_type": "code",
      "metadata": {
        "ExecuteTime": {
          "end_time": "2019-02-26T17:34:26.576253Z",
          "start_time": "2019-02-26T17:34:24.766264Z"
        },
        "id": "Rg33w8ZHnFjl",
        "colab_type": "code",
        "colab": {}
      },
      "source": [
        "df_PerformanceRating = pd.DataFrame(columns=[\"PerformanceRating\", \"% of Leavers\"])\n",
        "i=0\n",
        "for field in list(df_HR['PerformanceRating'].unique()):\n",
        "    ratio = df_HR[(df_HR['PerformanceRating']==field)&(df_HR['Attrition']==\"Yes\")].shape[0] / df_HR[df_HR['PerformanceRating']==field].shape[0]\n",
        "    df_PerformanceRating.loc[i] = (field, ratio*100)\n",
        "    i += 1\n",
        "    #print(\"In {}, the ratio of leavers is {:.2f}%\".format(field, ratio*100))    \n",
        "df_PR = df_PerformanceRating.groupby(by=\"PerformanceRating\").sum()\n",
        "df_PR.iplot(kind='bar',title='Leavers by Performance Rating (%)')"
      ],
      "execution_count": 0,
      "outputs": []
    },
    {
      "cell_type": "markdown",
      "metadata": {
        "id": "db_j4bVDnFjr",
        "colab_type": "text"
      },
      "source": [
        "### Target Variable: Attrition"
      ]
    },
    {
      "cell_type": "markdown",
      "metadata": {
        "id": "FPSTM_kinFjy",
        "colab_type": "text"
      },
      "source": [
        "> The feature 'Attrition' is what this Machine Learning problem is about. We are trying to predict the value of the feature 'Attrition' by using other related features associated with the employee's personal and professional history. "
      ]
    },
    {
      "cell_type": "code",
      "metadata": {
        "ExecuteTime": {
          "end_time": "2019-02-26T17:34:30.057344Z",
          "start_time": "2019-02-26T17:34:30.044363Z"
        },
        "id": "drbor6aVnFj0",
        "colab_type": "code",
        "colab": {}
      },
      "source": [
        "# Attrition indicates if the employee is currently active ('No') or has left the company ('Yes')\n",
        "df_HR['Attrition'].value_counts()"
      ],
      "execution_count": 0,
      "outputs": []
    },
    {
      "cell_type": "code",
      "metadata": {
        "ExecuteTime": {
          "end_time": "2019-02-26T17:34:31.567472Z",
          "start_time": "2019-02-26T17:34:31.556605Z"
        },
        "id": "g0KK2DZ1nFj8",
        "colab_type": "code",
        "colab": {}
      },
      "source": [
        "print(\"Percentage of Current Employees is {:.1f}% and of Ex-employees is: {:.1f}%\".format(\n",
        "    df_HR[df_HR['Attrition'] == 'No'].shape[0] / df_HR.shape[0]*100,\n",
        "    df_HR[df_HR['Attrition'] == 'Yes'].shape[0] / df_HR.shape[0]*100))"
      ],
      "execution_count": 0,
      "outputs": []
    },
    {
      "cell_type": "code",
      "metadata": {
        "ExecuteTime": {
          "end_time": "2019-02-26T17:34:33.217588Z",
          "start_time": "2019-02-26T17:34:33.076203Z"
        },
        "id": "vqsW-A1-nFkI",
        "colab_type": "code",
        "colab": {}
      },
      "source": [
        "df_HR['Attrition'].iplot(kind='hist', xTitle='Attrition',\n",
        "                         yTitle='count', title='Attrition Distribution')"
      ],
      "execution_count": 0,
      "outputs": []
    },
    {
      "cell_type": "markdown",
      "metadata": {
        "id": "tNvDW7qpnFkN",
        "colab_type": "text"
      },
      "source": [
        "> As shown on the chart above, we see this is an imbalanced class problem. Indeed, the percentage of Current Employees in our dataset is 83.9% and the percentage of Ex-employees is: 16.1%\n",
        "\n",
        "> Machine learning algorithms typically work best when the number of instances of each classes are roughly equal. We will have to address this target feature imbalance prior to implementing our Machine Learning algorithms."
      ]
    },
    {
      "cell_type": "markdown",
      "metadata": {
        "id": "WRWQ-YpPnFkP",
        "colab_type": "text"
      },
      "source": [
        "### Correlation"
      ]
    },
    {
      "cell_type": "markdown",
      "metadata": {
        "id": "CJHhLHdTnFkQ",
        "colab_type": "text"
      },
      "source": [
        "> Let's take a look at some of most significant correlations. It is worth remembering that correlation coefficients only measure linear correlations."
      ]
    },
    {
      "cell_type": "code",
      "metadata": {
        "ExecuteTime": {
          "end_time": "2019-02-26T17:43:13.261360Z",
          "start_time": "2019-02-26T17:43:13.224637Z"
        },
        "id": "8QOAMtLHnFkS",
        "colab_type": "code",
        "colab": {}
      },
      "source": [
        "# Find correlations with the target and sort\n",
        "df_HR_trans = df_HR.copy()\n",
        "df_HR_trans['Target'] = df_HR_trans['Attrition'].apply(\n",
        "    lambda x: 0 if x == 'No' else 1)\n",
        "df_HR_trans = df_HR_trans.drop(\n",
        "    ['Attrition', 'EmployeeCount', 'EmployeeNumber', 'StandardHours', 'Over18'], axis=1)\n",
        "correlations = df_HR_trans.corr()['Target'].sort_values()\n",
        "print('Most Positive Correlations: \\n', correlations.tail(5))\n",
        "print('\\nMost Negative Correlations: \\n', correlations.head(5))"
      ],
      "execution_count": 0,
      "outputs": []
    },
    {
      "cell_type": "markdown",
      "metadata": {
        "id": "s455d6XJnFkX",
        "colab_type": "text"
      },
      "source": [
        "> Let's plot a heatmap to visualize the correlation between Attrition and these factors."
      ]
    },
    {
      "cell_type": "code",
      "metadata": {
        "ExecuteTime": {
          "end_time": "2019-02-26T17:44:13.037172Z",
          "start_time": "2019-02-26T17:44:12.365082Z"
        },
        "id": "cbHUOrM6nFkZ",
        "colab_type": "code",
        "colab": {}
      },
      "source": [
        "# Calculate correlations\n",
        "corr = df_HR_trans.corr()\n",
        "mask = np.zeros_like(corr)\n",
        "mask[np.triu_indices_from(mask)] = True\n",
        "# Heatmap\n",
        "plt.figure(figsize=(15, 10))\n",
        "sns.heatmap(corr,\n",
        "            vmax=.5,\n",
        "            mask=mask,\n",
        "            # annot=True, fmt='.2f',\n",
        "            linewidths=.2, cmap=\"YlGnBu\")"
      ],
      "execution_count": 0,
      "outputs": []
    },
    {
      "cell_type": "markdown",
      "metadata": {
        "id": "v1-EKZRjnFkf",
        "colab_type": "text"
      },
      "source": [
        "> As shown above, \"Monthly Rate\", \"Number of Companies Worked\" and \"Distance From Home\" are positively correlated to Attrition; <br> while \"Total Working Years\", \"Job Level\", and \"Years In Current Role\" are negatively correlated to Attrition."
      ]
    },
    {
      "cell_type": "markdown",
      "metadata": {
        "id": "6_vnrqiBnFkg",
        "colab_type": "text"
      },
      "source": [
        "### EDA Concluding Remarks"
      ]
    },
    {
      "cell_type": "markdown",
      "metadata": {
        "id": "stHE39SBnFki",
        "colab_type": "text"
      },
      "source": [
        "Let's summarise the findings from this EDA: <br>\n",
        "\n",
        "> - The dataset does not feature any missing or erroneous data values, and all features are of the correct data type. <br>\n",
        "- The strongest positive correlations with the target features are: **Performance Rating**, **Monthly Rate**, **Num Companies Worked**, **Distance From Home**. \n",
        "- The strongest negative correlations with the target features are: **Total Working Years**, **Job Level**, **Years In Current Role**, and **Monthly Income**.\n",
        "- The dataset is **imbalanced** with the majoriy of observations describing Currently Active Employees. <br>\n",
        "- Several features (ie columns) are redundant for our analysis, namely: EmployeeCount, EmployeeNumber, StandardHours, and Over18. <br>\n",
        "\n",
        "Other observations include: <br>\n",
        "> - Single employees show the largest proportion of leavers, compared to Married and Divorced counterparts. <br>\n",
        "- About 10% of leavers left when they reach their 2-year anniversary at the company. <br>\n",
        "- Loyal employees with higher salaries and more responsbilities show lower proportion of leavers compared to their counterparts. <br>\n",
        "- People who live further away from their work show higher proportion of leavers compared to their counterparts.<br>\n",
        "- People who travel frequently show higher proportion of leavers compared to their counterparts.<br>\n",
        "- People who have to work overtime show higher proportion of leavers compared to their counterparts.<br>\n",
        "- Employee who work as Sales Representatives show a significant percentage of Leavers in the submitted dataset.<br>\n",
        "- Employees that have already worked at several companies previously (already \"bounced\" between workplaces) show higher proportion of leavers compared to their counterparts.<br>"
      ]
    },
    {
      "cell_type": "markdown",
      "metadata": {
        "id": "TU_qyIO2nFkj",
        "colab_type": "text"
      },
      "source": [
        "## Pre-processing Pipeline"
      ]
    },
    {
      "cell_type": "markdown",
      "metadata": {
        "id": "SHu-A2b_nFkq",
        "colab_type": "text"
      },
      "source": [
        "In this section, we undertake data pre-processing steps to prepare the datasets for Machine Learning algorithm implementation."
      ]
    },
    {
      "cell_type": "markdown",
      "metadata": {
        "id": "lyVx2CIunFkr",
        "colab_type": "text"
      },
      "source": [
        "### Encoding"
      ]
    },
    {
      "cell_type": "markdown",
      "metadata": {
        "id": "iUHPM0ijnFkt",
        "colab_type": "text"
      },
      "source": [
        "> Machine Learning algorithms can typically only have numerical values as their predictor variables. Hence Label Encoding becomes necessary as they encode categorical labels with numerical values. To avoid introducing feature importance for categorical features with large numbers of unique values, we will use both Lable Encoding and One-Hot Encoding as shown below."
      ]
    },
    {
      "cell_type": "code",
      "metadata": {
        "id": "rcfsHU97nFk2",
        "colab_type": "code",
        "colab": {}
      },
      "source": [
        "from sklearn.preprocessing import LabelEncoder, OneHotEncoder\n",
        "# Create a label encoder object\n",
        "le = LabelEncoder()"
      ],
      "execution_count": 0,
      "outputs": []
    },
    {
      "cell_type": "code",
      "metadata": {
        "id": "4lYSMtKSnFlE",
        "colab_type": "code",
        "colab": {}
      },
      "source": [
        "print(df_HR.shape)\n",
        "df_HR.head()"
      ],
      "execution_count": 0,
      "outputs": []
    },
    {
      "cell_type": "code",
      "metadata": {
        "id": "mbjqcMItnFlM",
        "colab_type": "code",
        "colab": {}
      },
      "source": [
        "# Label Encoding will be used for columns with 2 or less unique values\n",
        "le_count = 0\n",
        "for col in df_HR.columns[1:]:\n",
        "    if df_HR[col].dtype == 'object':\n",
        "        if len(list(df_HR[col].unique())) <= 2:\n",
        "            le.fit(df_HR[col])\n",
        "            df_HR[col] = le.transform(df_HR[col])\n",
        "            le_count += 1\n",
        "print('{} columns were label encoded.'.format(le_count))"
      ],
      "execution_count": 0,
      "outputs": []
    },
    {
      "cell_type": "code",
      "metadata": {
        "id": "VqlNHzv8nFlV",
        "colab_type": "code",
        "colab": {}
      },
      "source": [
        "# convert rest of categorical variable into dummy\n",
        "df_HR = pd.get_dummies(df_HR, drop_first=True)"
      ],
      "execution_count": 0,
      "outputs": []
    },
    {
      "cell_type": "markdown",
      "metadata": {
        "id": "xamXx2d-nFla",
        "colab_type": "text"
      },
      "source": [
        "> The resulting dataframe has **49 columns** for 1,470 employees."
      ]
    },
    {
      "cell_type": "code",
      "metadata": {
        "id": "JRR1FBsinFlc",
        "colab_type": "code",
        "colab": {}
      },
      "source": [
        "print(df_HR.shape)\n",
        "df_HR.head()"
      ],
      "execution_count": 0,
      "outputs": []
    },
    {
      "cell_type": "markdown",
      "metadata": {
        "id": "zTS16ngrnFlo",
        "colab_type": "text"
      },
      "source": [
        "### Feature Scaling"
      ]
    },
    {
      "cell_type": "markdown",
      "metadata": {
        "id": "1sTCrr8HnFlq",
        "colab_type": "text"
      },
      "source": [
        "> Feature Scaling using MinMaxScaler essentially shrinks the range such that the range is now between 0 and n. Machine Learning algorithms perform better when input numerical variables fall within a similar scale. In this case, we are scaling between 0 and 5."
      ]
    },
    {
      "cell_type": "code",
      "metadata": {
        "id": "2qLhjfbKnFls",
        "colab_type": "code",
        "colab": {}
      },
      "source": [
        "# import MinMaxScaler\n",
        "from sklearn.preprocessing import MinMaxScaler\n",
        "scaler = MinMaxScaler(feature_range=(0, 5))\n",
        "HR_col = list(df_HR.columns)\n",
        "HR_col.remove('Attrition')\n",
        "for col in HR_col:\n",
        "    df_HR[col] = df_HR[col].astype(float)\n",
        "    df_HR[[col]] = scaler.fit_transform(df_HR[[col]])\n",
        "df_HR['Attrition'] = pd.to_numeric(df_HR['Attrition'], downcast='float')\n",
        "df_HR.head()"
      ],
      "execution_count": 0,
      "outputs": []
    },
    {
      "cell_type": "code",
      "metadata": {
        "id": "czNZoB7knFly",
        "colab_type": "code",
        "colab": {}
      },
      "source": [
        "print('Size of Full Encoded Dataset: {}'. format(df_HR.shape))"
      ],
      "execution_count": 0,
      "outputs": []
    },
    {
      "cell_type": "markdown",
      "metadata": {
        "id": "Lct7My12nFl3",
        "colab_type": "text"
      },
      "source": [
        "### Splitting data into training and testing sets"
      ]
    },
    {
      "cell_type": "markdown",
      "metadata": {
        "id": "u_inneZXnFl5",
        "colab_type": "text"
      },
      "source": [
        "> Prior to implementating or applying any Machine Learning algorithms, we must decouple training and testing datasets from our master dataframe."
      ]
    },
    {
      "cell_type": "code",
      "metadata": {
        "id": "eyuTK50SnFl6",
        "colab_type": "code",
        "colab": {}
      },
      "source": [
        "# assign the target to a new dataframe and convert it to a numerical feature\n",
        "#df_target = df_HR[['Attrition']].copy()\n",
        "target = df_HR['Attrition'].copy()"
      ],
      "execution_count": 0,
      "outputs": []
    },
    {
      "cell_type": "code",
      "metadata": {
        "id": "MFF7vIHanFmA",
        "colab_type": "code",
        "colab": {}
      },
      "source": [
        "type(target)"
      ],
      "execution_count": 0,
      "outputs": []
    },
    {
      "cell_type": "code",
      "metadata": {
        "scrolled": true,
        "id": "XrdjE12NnFmF",
        "colab_type": "code",
        "colab": {}
      },
      "source": [
        "# let's remove the target feature and redundant features from the dataset\n",
        "df_HR.drop(['Attrition', 'EmployeeCount', 'EmployeeNumber',\n",
        "            'StandardHours', 'Over18'], axis=1, inplace=True)\n",
        "print('Size of Full dataset is: {}'.format(df_HR.shape))"
      ],
      "execution_count": 0,
      "outputs": []
    },
    {
      "cell_type": "code",
      "metadata": {
        "id": "mXNpz7zmnFmK",
        "colab_type": "code",
        "colab": {}
      },
      "source": [
        "# Since we have class imbalance (i.e. more employees with turnover=0 than turnover=1)\n",
        "# let's use stratify=y to maintain the same ratio as in the training dataset when splitting the dataset\n",
        "X_train, X_test, y_train, y_test = train_test_split(df_HR,\n",
        "                                                    target,\n",
        "                                                    test_size=0.25,\n",
        "                                                    random_state=7,\n",
        "                                                    stratify=target)  \n",
        "print(\"Number transactions X_train dataset: \", X_train.shape)\n",
        "print(\"Number transactions y_train dataset: \", y_train.shape)\n",
        "print(\"Number transactions X_test dataset: \", X_test.shape)\n",
        "print(\"Number transactions y_test dataset: \", y_test.shape)"
      ],
      "execution_count": 0,
      "outputs": []
    },
    {
      "cell_type": "markdown",
      "metadata": {
        "id": "xnDiMO-PnFmP",
        "colab_type": "text"
      },
      "source": [
        "## Building Machine Learning Models"
      ]
    },
    {
      "cell_type": "markdown",
      "metadata": {
        "id": "rrQGAnQlnFmR",
        "colab_type": "text"
      },
      "source": [
        "### Baseline Algorithms"
      ]
    },
    {
      "cell_type": "markdown",
      "metadata": {
        "id": "YnVApJrbnFmU",
        "colab_type": "text"
      },
      "source": [
        "> Let's first use a range of **baseline** algorithms (using out-of-the-box hyper-parameters) before we move on to more sophisticated solutions. The algorithms considered in this section are: **Logistic Regression**, **Random Forest**, **SVM**, **KNN**, **Decision Tree Classifier**, **Gaussian NB**."
      ]
    },
    {
      "cell_type": "code",
      "metadata": {
        "id": "CZf-oRucnFmc",
        "colab_type": "code",
        "colab": {}
      },
      "source": [
        "# selection of algorithms to consider and set performance measure\n",
        "models = []\n",
        "models.append(('Logistic Regression', LogisticRegression(solver='liblinear', random_state=7,\n",
        "                                                         class_weight='balanced')))\n",
        "models.append(('Random Forest', RandomForestClassifier(\n",
        "    n_estimators=100, random_state=7)))\n",
        "models.append(('SVM', SVC(gamma='auto', random_state=7)))\n",
        "models.append(('KNN', KNeighborsClassifier()))\n",
        "models.append(('Decision Tree Classifier',\n",
        "               DecisionTreeClassifier(random_state=7)))\n",
        "models.append(('Gaussian NB', GaussianNB()))"
      ],
      "execution_count": 0,
      "outputs": []
    },
    {
      "cell_type": "markdown",
      "metadata": {
        "id": "uz0dfglznFmm",
        "colab_type": "text"
      },
      "source": [
        "> Let's evaluate each model in turn and provide accuracy and standard deviation scores"
      ]
    },
    {
      "cell_type": "code",
      "metadata": {
        "id": "mFQdJh4xnFmo",
        "colab_type": "code",
        "colab": {}
      },
      "source": [
        "acc_results = []\n",
        "auc_results = []\n",
        "names = []\n",
        "# set table to table to populate with performance results\n",
        "col = ['Algorithm', 'ROC AUC Mean', 'ROC AUC STD', \n",
        "       'Accuracy Mean', 'Accuracy STD']\n",
        "df_results = pd.DataFrame(columns=col)\n",
        "i = 0\n",
        "# evaluate each model using cross-validation\n",
        "for name, model in models:\n",
        "    kfold = model_selection.KFold(\n",
        "        n_splits=10, random_state=7)  # 10-fold cross-validation\n",
        "\n",
        "    cv_acc_results = model_selection.cross_val_score(  # accuracy scoring\n",
        "        model, X_train, y_train, cv=kfold, scoring='accuracy')\n",
        "\n",
        "    cv_auc_results = model_selection.cross_val_score(  # roc_auc scoring\n",
        "        model, X_train, y_train, cv=kfold, scoring='roc_auc')\n",
        "\n",
        "    acc_results.append(cv_acc_results)\n",
        "    auc_results.append(cv_auc_results)\n",
        "    names.append(name)\n",
        "    df_results.loc[i] = [name,\n",
        "                         round(cv_auc_results.mean()*100, 2),\n",
        "                         round(cv_auc_results.std()*100, 2),\n",
        "                         round(cv_acc_results.mean()*100, 2),\n",
        "                         round(cv_acc_results.std()*100, 2)\n",
        "                         ]\n",
        "    i += 1\n",
        "df_results.sort_values(by=['ROC AUC Mean'], ascending=False)"
      ],
      "execution_count": 0,
      "outputs": []
    },
    {
      "cell_type": "markdown",
      "metadata": {
        "id": "Y7iI3g9qnFmy",
        "colab_type": "text"
      },
      "source": [
        "> **Classification Accuracy** is the number of correct predictions made as a ratio of all predictions made. <br> \n",
        "It is the most common evaluation metric for classification problems. However, it is often **misused** as it is only really suitable when there are an **equal number of observations in each class** and all predictions and prediction errors are equally important. It is not the case in this project, so a different scoring metric may be more suitable."
      ]
    },
    {
      "cell_type": "code",
      "metadata": {
        "id": "X3fOF7UanFm0",
        "colab_type": "code",
        "colab": {}
      },
      "source": [
        "fig = plt.figure(figsize=(15, 7))\n",
        "fig.suptitle('Algorithm Accuracy Comparison')\n",
        "ax = fig.add_subplot(111)\n",
        "plt.boxplot(acc_results)\n",
        "ax.set_xticklabels(names)\n",
        "plt.show()"
      ],
      "execution_count": 0,
      "outputs": []
    },
    {
      "cell_type": "markdown",
      "metadata": {
        "id": "bN4Z6AvFnFm7",
        "colab_type": "text"
      },
      "source": [
        "> **Area under ROC Curve** (or AUC for short) is a performance metric for binary classification problems. <br>\n",
        "The AUC represents a **model’s ability to discriminate between positive and negative classes**. An area of 1.0 represents a model that made all predictions perfectly. An area of 0.5 represents a model as good as random."
      ]
    },
    {
      "cell_type": "code",
      "metadata": {
        "id": "BPo-d-BgnFm8",
        "colab_type": "code",
        "colab": {}
      },
      "source": [
        "fig = plt.figure(figsize=(15, 7))\n",
        "fig.suptitle('Algorithm ROC AUC Comparison')\n",
        "ax = fig.add_subplot(111)\n",
        "plt.boxplot(auc_results)\n",
        "ax.set_xticklabels(names)\n",
        "plt.show()"
      ],
      "execution_count": 0,
      "outputs": []
    },
    {
      "cell_type": "markdown",
      "metadata": {
        "id": "LevGhPXPnFnB",
        "colab_type": "text"
      },
      "source": [
        "> Based on our ROC AUC comparison analysis, **Logistic Regression** and **Random Forest** show the highest mean AUC scores. We will shortlist these two algorithms for further analysis. See below for more details on these two algos."
      ]
    },
    {
      "cell_type": "markdown",
      "metadata": {
        "id": "PuHIN-4RnFnC",
        "colab_type": "text"
      },
      "source": [
        "**Logistic Regression** is a Machine Learning classification algorithm that is used to predict the probability of a categorical dependent variable. Logistic Regression is classification algorithm that is not as sophisticated as the ensemble methods or boosted decision trees method discussed below. Hence, it provides us with a good benchmark. "
      ]
    },
    {
      "cell_type": "markdown",
      "metadata": {
        "id": "K6MXFokwnFnE",
        "colab_type": "text"
      },
      "source": [
        "![title](https://cdn-images-1.medium.com/max/1600/0*vRhSdZ_k4wrP6Bl8.jpg)"
      ]
    },
    {
      "cell_type": "markdown",
      "metadata": {
        "id": "9Be_kh6FnFnF",
        "colab_type": "text"
      },
      "source": [
        "### Logistic Regression"
      ]
    },
    {
      "cell_type": "markdown",
      "metadata": {
        "id": "k_qt_SGBnFnG",
        "colab_type": "text"
      },
      "source": [
        "> Let's take a closer look at using the Logistic Regression algorithm. I'll be using 10 fold Cross-Validation to train our Logistic Regression Model and estimate its AUC score."
      ]
    },
    {
      "cell_type": "code",
      "metadata": {
        "id": "cqtJ3exonFnI",
        "colab_type": "code",
        "colab": {}
      },
      "source": [
        "kfold = model_selection.KFold(n_splits=10, random_state=7)\n",
        "modelCV = LogisticRegression(solver='liblinear',\n",
        "                             class_weight=\"balanced\", \n",
        "                             random_state=7)\n",
        "scoring = 'roc_auc'\n",
        "results = model_selection.cross_val_score(\n",
        "    modelCV, X_train, y_train, cv=kfold, scoring=scoring)\n",
        "print(\"AUC score (STD): %.2f (%.2f)\" % (results.mean(), results.std()))"
      ],
      "execution_count": 0,
      "outputs": []
    },
    {
      "cell_type": "markdown",
      "metadata": {
        "id": "HUWfo_qtnFnN",
        "colab_type": "text"
      },
      "source": [
        "#### Fine-tuning"
      ]
    },
    {
      "cell_type": "markdown",
      "metadata": {
        "id": "v2nXa9R-nFnO",
        "colab_type": "text"
      },
      "source": [
        "> GridSearchCV allows use to fine-tune hyper-parameters by searching over specified parameter values for an estimator."
      ]
    },
    {
      "cell_type": "code",
      "metadata": {
        "id": "9KilHVQPnFnP",
        "colab_type": "code",
        "colab": {}
      },
      "source": [
        "param_grid = {'C': np.arange(1e-03, 2, 0.01)} # hyper-parameter list to fine-tune\n",
        "log_gs = GridSearchCV(LogisticRegression(solver='liblinear', # setting GridSearchCV\n",
        "                                         class_weight=\"balanced\", \n",
        "                                         random_state=7),\n",
        "                      iid=True,\n",
        "                      return_train_score=True,\n",
        "                      param_grid=param_grid,\n",
        "                      scoring='roc_auc',\n",
        "                      cv=10)\n",
        "\n",
        "log_grid = log_gs.fit(X_train, y_train)\n",
        "log_opt = log_grid.best_estimator_\n",
        "results = log_gs.cv_results_\n",
        "\n",
        "print('='*20)\n",
        "print(\"best params: \" + str(log_gs.best_estimator_))\n",
        "print(\"best params: \" + str(log_gs.best_params_))\n",
        "print('best score:', log_gs.best_score_)\n",
        "print('='*20)"
      ],
      "execution_count": 0,
      "outputs": []
    },
    {
      "cell_type": "markdown",
      "metadata": {
        "id": "FGsnX_7BnFnY",
        "colab_type": "text"
      },
      "source": [
        "> As shown above, the results from GridSearchCV provided us with fine-tuned hyper-parameter using ROC_AUC as the scoring metric."
      ]
    },
    {
      "cell_type": "markdown",
      "metadata": {
        "id": "kEUvAtumnFnZ",
        "colab_type": "text"
      },
      "source": [
        "#### Evaluation"
      ]
    },
    {
      "cell_type": "code",
      "metadata": {
        "id": "w7AD9R0BnFnb",
        "colab_type": "code",
        "colab": {}
      },
      "source": [
        "## Confusion Matrix\n",
        "cnf_matrix = metrics.confusion_matrix(y_test, log_opt.predict(X_test))\n",
        "class_names=[0,1] # name  of classes\n",
        "fig, ax = plt.subplots()\n",
        "tick_marks = np.arange(len(class_names))\n",
        "plt.xticks(tick_marks, class_names)\n",
        "plt.yticks(tick_marks, class_names)\n",
        "# create heatmap\n",
        "sns.heatmap(pd.DataFrame(cnf_matrix), annot=True, cmap=\"YlGnBu\" ,fmt='g')\n",
        "ax.xaxis.set_label_position(\"top\")\n",
        "plt.tight_layout()\n",
        "plt.title('Confusion matrix', y=1.1)\n",
        "plt.ylabel('Actual label')\n",
        "plt.xlabel('Predicted label')"
      ],
      "execution_count": 0,
      "outputs": []
    },
    {
      "cell_type": "code",
      "metadata": {
        "id": "FitmGGpAnFnp",
        "colab_type": "code",
        "colab": {}
      },
      "source": [
        "print('Accuracy of Logistic Regression Classifier on test set: {:.2f}'.format(log_opt.score(X_test, y_test)*100))"
      ],
      "execution_count": 0,
      "outputs": []
    },
    {
      "cell_type": "markdown",
      "metadata": {
        "id": "EoonhrwLnFnw",
        "colab_type": "text"
      },
      "source": [
        "> The Confusion matrix is telling us that we have 231+47 correct predictions and 78+12 incorrect predictions. In other words, an accurac of 75.54%."
      ]
    },
    {
      "cell_type": "code",
      "metadata": {
        "id": "b0JxTKFRnFny",
        "colab_type": "code",
        "colab": {}
      },
      "source": [
        "# Classification report for the optimised Log Regression\n",
        "log_opt.fit(X_train, y_train)\n",
        "print(classification_report(y_test, log_opt.predict(X_test)))"
      ],
      "execution_count": 0,
      "outputs": []
    },
    {
      "cell_type": "markdown",
      "metadata": {
        "id": "QeMpXtI7nFoB",
        "colab_type": "text"
      },
      "source": [
        "> Instead of getting binary estimated target features (0 or 1), a probability can be associated with the predicted target. <br> The output provides a first index referring to the probability that the data belong to **class 0** (employee not leaving), and the second refers to the probability that the data belong to **class 1** (employee leaving).\n",
        "\n",
        "> The resulting AUC score is: 0.857 which is higher than that best score during the optimisation step."
      ]
    },
    {
      "cell_type": "code",
      "metadata": {
        "id": "WUNWhPVEnFoC",
        "colab_type": "code",
        "colab": {}
      },
      "source": [
        "log_opt.fit(X_train, y_train) # fit optimised model to the training data\n",
        "probs = log_opt.predict_proba(X_test) # predict probabilities\n",
        "probs = probs[:, 1] # we will only keep probabilities associated with the employee leaving\n",
        "logit_roc_auc = roc_auc_score(y_test, probs) # calculate AUC score using test dataset\n",
        "print('AUC score: %.3f' % logit_roc_auc)"
      ],
      "execution_count": 0,
      "outputs": []
    },
    {
      "cell_type": "markdown",
      "metadata": {
        "id": "WaeRZhtqnFoH",
        "colab_type": "text"
      },
      "source": [
        "### Random Forest Classifier"
      ]
    },
    {
      "cell_type": "markdown",
      "metadata": {
        "id": "9zJr1YVknFoN",
        "colab_type": "text"
      },
      "source": [
        "> Let's take a closer look at using the Random Forest algorithm. I'll fine-tune the Random Forest algorithm's hyper-parameters by cross-validation against the AUC score."
      ]
    },
    {
      "cell_type": "markdown",
      "metadata": {
        "id": "VL5Tkxb4nFoP",
        "colab_type": "text"
      },
      "source": [
        "#### Fine-tuning"
      ]
    },
    {
      "cell_type": "code",
      "metadata": {
        "id": "QGa07_jXnFoR",
        "colab_type": "code",
        "colab": {}
      },
      "source": [
        "rf_classifier = RandomForestClassifier(class_weight = \"balanced\",\n",
        "                                       random_state=7)\n",
        "param_grid = {'n_estimators': [50, 75, 100, 125, 150, 175],\n",
        "              'min_samples_split':[2,4,6,8,10],\n",
        "              'min_samples_leaf': [1, 2, 3, 4],\n",
        "              'max_depth': [5, 10, 15, 20, 25]}\n",
        "\n",
        "grid_obj = GridSearchCV(rf_classifier,\n",
        "                        iid=True,\n",
        "                        return_train_score=True,\n",
        "                        param_grid=param_grid,\n",
        "                        scoring='roc_auc',\n",
        "                        cv=10)\n",
        "\n",
        "grid_fit = grid_obj.fit(X_train, y_train)\n",
        "rf_opt = grid_fit.best_estimator_\n",
        "\n",
        "print('='*20)\n",
        "print(\"best params: \" + str(grid_obj.best_estimator_))\n",
        "print(\"best params: \" + str(grid_obj.best_params_))\n",
        "print('best score:', grid_obj.best_score_)\n",
        "print('='*20)"
      ],
      "execution_count": 0,
      "outputs": []
    },
    {
      "cell_type": "markdown",
      "metadata": {
        "id": "YybLsQxpnFoZ",
        "colab_type": "text"
      },
      "source": [
        "> Random Forest allows us to know which features are of the most importance in predicting the target feature (\"attrition\" in this project). Below, we plot features by their importance."
      ]
    },
    {
      "cell_type": "code",
      "metadata": {
        "id": "5YalB03CnFob",
        "colab_type": "code",
        "colab": {}
      },
      "source": [
        "importances = rf_opt.feature_importances_\n",
        "indices = np.argsort(importances)[::-1] # Sort feature importances in descending order\n",
        "names = [X_train.columns[i] for i in indices] # Rearrange feature names so they match the sorted feature importances\n",
        "plt.figure(figsize=(15, 7)) # Create plot\n",
        "plt.title(\"Feature Importance\") # Create plot title\n",
        "plt.bar(range(X_train.shape[1]), importances[indices]) # Add bars\n",
        "plt.xticks(range(X_train.shape[1]), names, rotation=90) # Add feature names as x-axis labels\n",
        "plt.show() # Show plot"
      ],
      "execution_count": 0,
      "outputs": []
    },
    {
      "cell_type": "markdown",
      "metadata": {
        "id": "lVb4YZIZnFoy",
        "colab_type": "text"
      },
      "source": [
        "> Random Forest helped us identify the Top 10 most important indicators (ranked in the table below) as: <br>\n",
        "MonthlyIncome, OverTime, Age, MonthlyRate, DistanceFromHome, DailyRate, TotalWorkingYears, YearsAtCompany, HourlyRate, YearsWithCurrManager."
      ]
    },
    {
      "cell_type": "code",
      "metadata": {
        "id": "wOv4kNDnnFoz",
        "colab_type": "code",
        "colab": {}
      },
      "source": [
        "importances = rf_opt.feature_importances_\n",
        "df_param_coeff = pd.DataFrame(columns=['Feature', 'Coefficient'])\n",
        "for i in range(44):\n",
        "    feat = X_train.columns[i]\n",
        "    coeff = importances[i]\n",
        "    df_param_coeff.loc[i] = (feat, coeff)\n",
        "df_param_coeff.sort_values(by='Coefficient', ascending=False, inplace=True)\n",
        "df_param_coeff = df_param_coeff.reset_index(drop=True)\n",
        "df_param_coeff.head(10)"
      ],
      "execution_count": 0,
      "outputs": []
    },
    {
      "cell_type": "code",
      "metadata": {
        "id": "S6XNcbXXxv_c",
        "colab_type": "code",
        "colab": {}
      },
      "source": [
        ""
      ],
      "execution_count": 0,
      "outputs": []
    },
    {
      "cell_type": "markdown",
      "metadata": {
        "id": "CkXKrlWnnFo8",
        "colab_type": "text"
      },
      "source": [
        "#### Evaluation"
      ]
    },
    {
      "cell_type": "code",
      "metadata": {
        "id": "R5fU77nDnFpB",
        "colab_type": "code",
        "colab": {}
      },
      "source": [
        "## Confusion Matrix\n",
        "cnf_matrix = metrics.confusion_matrix(y_test, rf_opt.predict(X_test))\n",
        "class_names=[0,1] # name  of classes\n",
        "fig, ax = plt.subplots()\n",
        "tick_marks = np.arange(len(class_names))\n",
        "plt.xticks(tick_marks, class_names)\n",
        "plt.yticks(tick_marks, class_names)\n",
        "# create heatmap\n",
        "sns.heatmap(pd.DataFrame(cnf_matrix), annot=True, cmap=\"YlGnBu\" ,fmt='g')\n",
        "ax.xaxis.set_label_position(\"top\")\n",
        "plt.tight_layout()\n",
        "plt.title('Confusion matrix', y=1.1)\n",
        "plt.ylabel('Actual label')\n",
        "plt.xlabel('Predicted label')"
      ],
      "execution_count": 0,
      "outputs": []
    },
    {
      "cell_type": "code",
      "metadata": {
        "id": "B0Kzk9tcnFpL",
        "colab_type": "code",
        "colab": {}
      },
      "source": [
        "print('Accuracy of RandomForest Regression Classifier on test set: {:.2f}'.format(rf_opt.score(X_test, y_test)*100))"
      ],
      "execution_count": 0,
      "outputs": []
    },
    {
      "cell_type": "markdown",
      "metadata": {
        "id": "YOf-XaOOnFpV",
        "colab_type": "text"
      },
      "source": [
        "> The Confusion matrix is telling us that we have 303+14 correct predictions and 1+52 incorrect predictions. In other words, an accurac of 86.14%."
      ]
    },
    {
      "cell_type": "code",
      "metadata": {
        "id": "VQMYU218nFpX",
        "colab_type": "code",
        "colab": {}
      },
      "source": [
        "# Classification report for the optimised RF Regression\n",
        "rf_opt.fit(X_train, y_train)\n",
        "print(classification_report(y_test, rf_opt.predict(X_test)))"
      ],
      "execution_count": 0,
      "outputs": []
    },
    {
      "cell_type": "markdown",
      "metadata": {
        "id": "Dvi9KbfbnFpf",
        "colab_type": "text"
      },
      "source": [
        "> Using probabilistic class prediction resulted in AUC score is: 0.818 which is higher than that best score during the optimisation step."
      ]
    },
    {
      "cell_type": "code",
      "metadata": {
        "id": "cnNTS6gbnFph",
        "colab_type": "code",
        "colab": {}
      },
      "source": [
        "rf_opt.fit(X_train, y_train) # fit optimised model to the training data\n",
        "probs = rf_opt.predict_proba(X_test) # predict probabilities\n",
        "probs = probs[:, 1] # we will only keep probabilities associated with the employee leaving\n",
        "rf_opt_roc_auc = roc_auc_score(y_test, probs) # calculate AUC score using test dataset\n",
        "print('AUC score: %.3f' % rf_opt_roc_auc)"
      ],
      "execution_count": 0,
      "outputs": []
    },
    {
      "cell_type": "markdown",
      "metadata": {
        "id": "vGZtk7vXnFpn",
        "colab_type": "text"
      },
      "source": [
        "### ROC Graphs"
      ]
    },
    {
      "cell_type": "markdown",
      "metadata": {
        "id": "pUh3GCXmnFpo",
        "colab_type": "text"
      },
      "source": [
        "> AUC - ROC curve is a performance measurement for classification problem at various thresholds settings. ROC is a probability curve and AUC represents degree or measure of separability. It tells how much model is capable of distinguishing between classes. <br>\n",
        "The green line represents the ROC curve of a purely random classifier; a good classifier stays as far away from that line as possible (toward the top-left corner). <br>"
      ]
    },
    {
      "cell_type": "code",
      "metadata": {
        "id": "AWr7Duf_nFpq",
        "colab_type": "code",
        "colab": {}
      },
      "source": [
        "# Create ROC Graph\n",
        "from sklearn.metrics import roc_curve\n",
        "fpr, tpr, thresholds = roc_curve(y_test, log_opt.predict_proba(X_test)[:,1])\n",
        "rf_fpr, rf_tpr, rf_thresholds = roc_curve(y_test, rf_opt.predict_proba(X_test)[:,1])\n",
        "plt.figure(figsize=(14, 6))\n",
        "\n",
        "# Plot Logistic Regression ROC\n",
        "plt.plot(fpr, tpr, label='Logistic Regression (area = %0.2f)' % logit_roc_auc)\n",
        "# Plot Random Forest ROC\n",
        "plt.plot(rf_fpr, rf_tpr, label='Random Forest (area = %0.2f)' % rf_opt_roc_auc)\n",
        "# Plot Base Rate ROC\n",
        "plt.plot([0,1], [0,1],label='Base Rate' 'k--')\n",
        "\n",
        "plt.xlim([0.0, 1.0])\n",
        "plt.ylim([0.0, 1.05])\n",
        "plt.xlabel('False Positive Rate')\n",
        "plt.ylabel('True Positive Rate')\n",
        "plt.title('ROC Graph')\n",
        "plt.legend(loc=\"lower right\")\n",
        "plt.show()"
      ],
      "execution_count": 0,
      "outputs": []
    },
    {
      "cell_type": "markdown",
      "metadata": {
        "id": "GDrErU_MnFpx",
        "colab_type": "text"
      },
      "source": [
        "> As shown below, the fine-tuned Logistic Regression model showed a higher AUC score compared to the Random Forest Classifier. <br>"
      ]
    },
    {
      "cell_type": "markdown",
      "metadata": {
        "id": "VMhd0TALnFpz",
        "colab_type": "text"
      },
      "source": [
        "## Concluding Remarks"
      ]
    },
    {
      "cell_type": "markdown",
      "metadata": {
        "id": "w5pW8f9snFp1",
        "colab_type": "text"
      },
      "source": [
        "### Risk Category"
      ]
    },
    {
      "cell_type": "markdown",
      "metadata": {
        "id": "PLp0wsncnFp2",
        "colab_type": "text"
      },
      "source": [
        "As the company generates more data on its employees (on New Joiners and recent Leavers) the algorithm can be re-trained using the additional data and theoritically generate more accurate predictions to identify **high-risk employees** of leaving based on the probabilistic label assigned to each feature variable (i.e. employee) by the algorithm."
      ]
    },
    {
      "cell_type": "markdown",
      "metadata": {
        "id": "yNqoXSfonFp4",
        "colab_type": "text"
      },
      "source": [
        "Employees can be assigning a \"Risk Category\" based on the predicted label such that:\n",
        "- **Low-risk** for employees with label < 0.6\n",
        "- **Medium-risk** for employees with label between 0.6 and 0.8\n",
        "- **High-risk** for employees with label > 0.8 <br>"
      ]
    },
    {
      "cell_type": "markdown",
      "metadata": {
        "id": "ZoHlurm-nFp5",
        "colab_type": "text"
      },
      "source": [
        "### Strategic Retention Plan"
      ]
    },
    {
      "cell_type": "markdown",
      "metadata": {
        "id": "PgRloy_YnFp7",
        "colab_type": "text"
      },
      "source": [
        "- The stronger indicators of people leaving include:\n",
        "    - **Monthly Income**: people on higher wages are less likely to leave the company. Hence, efforts should be made to gather information on industry benchmarks in the current local market to determine if the company is providing competitive wages.\n",
        "    - **Over Time**: people who work overtime are more likelty to leave the company. Hence efforts  must be taken to appropriately scope projects upfront with adequate support and manpower so as to reduce the use of overtime.\n",
        "    - **YearsWithCurrManager**: A large number of leavers leave 6 months after their Current Managers. By using Line Manager details for each employee, one can determine which Manager have experienced the largest numbers of employees resigning over the past year. Several metrics can be used here to determine whether action should be taken with a Line Manager: \n",
        "        - number of employees under managers showing high turnover rates: this would indicate that the organisation's structure may need to be revisit to improve efficiency\n",
        "        - number of years the Line Manager has been in a particular position: this may indicate that the employees may need management training or be assigned a mentor (ideally an Executive) in the organisation\n",
        "        - patterns in the employees who have resigned: this may indicate recurring patterns in employees leaving in which case action may be taken accordingly.\n",
        "    - **Age**: Employees in relatively young age bracket 25-35 are more likely to leave. Hence, efforts should be made to clearly articulate the long-term vision of the company and young employees fit in that vision, as well as provide incentives in the form of clear paths to promotion for instance.\n",
        "    - **DistanceFromHome**: Employees who live further from home are more likely to leave the company. Hence, efforts should be made to provide support in the form of company transportation for clusters of employees leaving the same area, or in the form of Transportation Allowance. Initial screening of employees based on their home location is probably not recommended as it would be regarded as a form of discrimination as long as employees make it to work on time every day.\n",
        "    - **TotalWorkingYears**: The more experienced employees are less likely to leave. Employees who have between 5-8 years of experience should be identified as potentially having a higher-risk of leaving.\n",
        "    - **YearsAtCompany**: Loyal companies are less likely to leave. Employees who hit their two-year anniversary should be identified as potentially having a higher-risk of leaving."
      ]
    },
    {
      "cell_type": "markdown",
      "metadata": {
        "id": "9gizCqo2nFp8",
        "colab_type": "text"
      },
      "source": [
        "A strategic **\"Retention Plan\"** should be drawn for each **Risk Category** group. In addition to the suggested steps for each feature listed above, face-to-face meetings between a HR representative and employees can be initiated for **medium-** and **high-risk employees** to discuss work conditions. Also, a meeting with those employee's Line Manager would allow to discuss the work environment within the team and whether steps can be taken to improve it."
      ]
    },
    {
      "cell_type": "markdown",
      "metadata": {
        "id": "0gWpnQZ1nFp-",
        "colab_type": "text"
      },
      "source": [
        "**I hope you enjoyed reading this Kernel as much as I had writing it. **"
      ]
    },
    {
      "cell_type": "code",
      "metadata": {
        "id": "0xcCyqXznFp_",
        "colab_type": "code",
        "colab": {}
      },
      "source": [
        ""
      ],
      "execution_count": 0,
      "outputs": []
    }
  ]
}